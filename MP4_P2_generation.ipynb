{
 "cells": [
  {
   "cell_type": "markdown",
   "metadata": {},
   "source": [
    "# Generating Text with an RNN"
   ]
  },
  {
   "cell_type": "code",
   "execution_count": 1,
   "metadata": {},
   "outputs": [],
   "source": [
    "# !pip install --ignore-installed unidecode\n",
    "import unidecode\n",
    "import string\n",
    "import random\n",
    "import re\n",
    "import time\n",
    "\n",
    "import torch\n",
    "import torch.nn as nn\n",
    "\n",
    "%matplotlib inline\n",
    "\n",
    "%load_ext autoreload\n",
    "%autoreload 2"
   ]
  },
  {
   "cell_type": "code",
   "execution_count": 2,
   "metadata": {},
   "outputs": [],
   "source": [
    "from rnn.model import RNN\n",
    "from rnn.helpers import time_since\n",
    "from rnn.generate import generate"
   ]
  },
  {
   "cell_type": "code",
   "execution_count": 3,
   "metadata": {
    "scrolled": true
   },
   "outputs": [],
   "source": [
    "# device = torch.device(\"cuda:0\" if torch.cuda.is_available() else \"cpu\")\n",
    "device = \"cpu\""
   ]
  },
  {
   "cell_type": "markdown",
   "metadata": {},
   "source": [
    "## Data Processing\n",
    "\n",
    "The file we are using is a plain text file. We turn any potential unicode characters into plain ASCII by using the `unidecode` package (which you can install via `pip` or `conda`)."
   ]
  },
  {
   "cell_type": "code",
   "execution_count": 4,
   "metadata": {},
   "outputs": [
    {
     "name": "stdout",
     "output_type": "stream",
     "text": [
      "file_len = 4573338\n",
      "train len:  4116004\n",
      "test len:  457334\n"
     ]
    }
   ],
   "source": [
    "all_characters = string.printable\n",
    "n_characters = len(all_characters)\n",
    "\n",
    "file_path = './shakespeare.txt'\n",
    "file = unidecode.unidecode(open(file_path).read())\n",
    "file_len = len(file)\n",
    "print('file_len =', file_len)\n",
    "\n",
    "# we will leave the last 1/10th of text as test\n",
    "split = int(0.9*file_len)\n",
    "train_text = file[:split]\n",
    "test_text = file[split:]\n",
    "\n",
    "print('train len: ', len(train_text))\n",
    "print('test len: ', len(test_text))"
   ]
  },
  {
   "cell_type": "code",
   "execution_count": 5,
   "metadata": {},
   "outputs": [
    {
     "name": "stdout",
     "output_type": "stream",
     "text": [
      "worst of words.\n",
      "\n",
      "IAGO:\n",
      "Good my lord, pardon me:\n",
      "Though I am bound to every act of duty,\n",
      "I am not bound to that all slaves are free to.\n",
      "Utter my thoughts? Why, say they are vile and false;\n",
      "As where's th\n"
     ]
    }
   ],
   "source": [
    "chunk_len = 200\n",
    "# chunk_len = 300\n",
    "\n",
    "def random_chunk(text):\n",
    "    start_index = random.randint(0, len(text) - chunk_len)\n",
    "    end_index = start_index + chunk_len + 1\n",
    "    return text[start_index:end_index]\n",
    "\n",
    "print(random_chunk(train_text))"
   ]
  },
  {
   "cell_type": "markdown",
   "metadata": {},
   "source": [
    "### Input and Target data"
   ]
  },
  {
   "cell_type": "markdown",
   "metadata": {},
   "source": [
    "To make training samples out of the large string of text data, we will be splitting the text into chunks.\n",
    "\n",
    "Each chunk will be turned into a tensor, specifically a `LongTensor` (used for integer values), by looping through the characters of the string and looking up the index of each character in `all_characters`."
   ]
  },
  {
   "cell_type": "code",
   "execution_count": 6,
   "metadata": {},
   "outputs": [],
   "source": [
    "# Turn string into list of longs\n",
    "def char_tensor(string):\n",
    "    tensor = torch.zeros(len(string), requires_grad=True).long()\n",
    "    for c in range(len(string)):\n",
    "        tensor[c] = all_characters.index(string[c])\n",
    "    return tensor"
   ]
  },
  {
   "cell_type": "markdown",
   "metadata": {},
   "source": [
    "The following function loads a batch of input and target tensors for training. Each sample comes from a random chunk of text. A sample input will consist of all characters *except the last*, while the target wil contain all characters *following the first*. For example: if random_chunk='abc', then input='ab' and target='bc'"
   ]
  },
  {
   "cell_type": "code",
   "execution_count": 7,
   "metadata": {},
   "outputs": [],
   "source": [
    "def load_random_batch(text, chunk_len, batch_size):\n",
    "    input_data = torch.zeros(batch_size, chunk_len).long().to(device)\n",
    "    target = torch.zeros(batch_size, chunk_len).long().to(device)\n",
    "    for i in range(batch_size):\n",
    "        start_index = random.randint(0, len(text) - chunk_len - 1)\n",
    "        end_index = start_index + chunk_len + 1\n",
    "        chunk = text[start_index:end_index]\n",
    "        input_data[i] = char_tensor(chunk[:-1])\n",
    "        target[i] = char_tensor(chunk[1:])\n",
    "    return input_data, target"
   ]
  },
  {
   "cell_type": "markdown",
   "metadata": {},
   "source": [
    "# Implement model\n",
    "\n",
    "Your RNN model will take as input the character for step $t_{-1}$ and output a prediction for the next character $t$. The model should consiste of three layers - a linear layer that encodes the input character into an embedded state, an RNN layer (which may itself have multiple layers) that operates on that embedded state and a hidden state, and a decoder layer that outputs the predicted character scores distribution.\n",
    "\n",
    "\n",
    "You must implement your model in the `rnn/model.py` file. You should use a `nn.Embedding` object for the encoding layer, a RNN model like `nn.RNN` or `nn.LSTM`, and a `nn.Linear` layer for the final a predicted character score decoding layer.\n",
    "\n",
    "\n",
    "**TODO:** Implement the model in RNN `rnn/model.py`"
   ]
  },
  {
   "cell_type": "markdown",
   "metadata": {},
   "source": [
    "# Evaluating\n",
    "\n",
    "To evaluate the network we will feed one character at a time, use the outputs of the network as a probability distribution for the next character, and repeat. To start generation we pass a priming string to start building up the hidden state, from which we then generate one character at a time.\n",
    "\n",
    "\n",
    "Note that in the `evaluate` function, every time a prediction is made the outputs are divided by the \"temperature\" argument. Higher temperature values make actions more equally likely giving more \"random\" outputs. Lower temperature values (less than 1) high likelihood options contribute more. A temperature near 0 outputs only the most likely outputs.\n",
    "\n",
    "You may check different temperature values yourself, but we have provided a default which should work well."
   ]
  },
  {
   "cell_type": "code",
   "execution_count": 8,
   "metadata": {},
   "outputs": [],
   "source": [
    "def evaluate(rnn, prime_str='A', predict_len=100, temperature=0.8):\n",
    "    hidden = rnn.init_hidden(1, device=device)\n",
    "    prime_input = char_tensor(prime_str)\n",
    "    predicted = prime_str\n",
    "\n",
    "    # Use priming string to \"build up\" hidden state\n",
    "    for p in range(len(prime_str) - 1):\n",
    "        _, hidden = rnn(prime_input[p].unsqueeze(0).to(device), hidden)\n",
    "    inp = prime_input[-1]\n",
    "    \n",
    "    for p in range(predict_len):\n",
    "        output, hidden = rnn(inp.unsqueeze(0).to(device), hidden)\n",
    "        \n",
    "        # Sample from the network as a multinomial distribution\n",
    "        output_dist = output.data.view(-1).div(temperature).exp()\n",
    "        top_i = torch.multinomial(output_dist, 1)[0]\n",
    "        \n",
    "        # Add predicted character to string and use as next input\n",
    "        predicted_char = all_characters[top_i]\n",
    "        predicted += predicted_char\n",
    "        inp = char_tensor(predicted_char)\n",
    "\n",
    "    return predicted"
   ]
  },
  {
   "cell_type": "markdown",
   "metadata": {},
   "source": [
    "# Train RNN"
   ]
  },
  {
   "cell_type": "code",
   "execution_count": 9,
   "metadata": {},
   "outputs": [],
   "source": [
    "batch_size = 100\n",
    "n_epochs = 5000\n",
    "hidden_size = 200\n",
    "n_layers = 2\n",
    "learning_rate = 0.001\n",
    "model_type = 'rnn'\n",
    "print_every = 100\n",
    "plot_every = 100\n"
   ]
  },
  {
   "cell_type": "code",
   "execution_count": 10,
   "metadata": {},
   "outputs": [],
   "source": [
    "def eval_test(rnn, inp, target):\n",
    "    with torch.no_grad():\n",
    "        hidden = rnn.init_hidden(batch_size, device=device)\n",
    "        loss = 0\n",
    "        for c in range(chunk_len):\n",
    "            output, hidden = rnn(inp[:,c], hidden)\n",
    "            loss += criterion(output.view(batch_size, -1), target[:,c])\n",
    "    \n",
    "    return loss.data.item() / chunk_len"
   ]
  },
  {
   "cell_type": "markdown",
   "metadata": {},
   "source": [
    "### Train function\n",
    "\n",
    "**TODO**: Fill in the train function. You should initialize a hidden layer representation using your RNN's `init_hidden` function, set the model gradients to zero, and loop over each time step (character) in the input tensor. For each time step compute the output of the of the RNN and compute the loss over the output and the corresponding ground truth time step in `target`. The loss should be averaged over all time steps. Lastly, call backward on the averaged loss and take an optimizer step.\n"
   ]
  },
  {
   "cell_type": "code",
   "execution_count": 11,
   "metadata": {},
   "outputs": [],
   "source": [
    "def train(rnn, input, target, optimizer, criterion):\n",
    "    \"\"\"\n",
    "    Inputs:\n",
    "    - rnn: model\n",
    "    - input: input character data tensor of shape (batch_size, chunk_len)\n",
    "    - target: target character data tensor of shape (batch_size, chunk_len)\n",
    "    - optimizer: rnn model optimizer\n",
    "    - criterion: loss function\n",
    "    \n",
    "    Returns:\n",
    "    - loss: computed loss value as python float\n",
    "    \"\"\"\n",
    "    loss = 0\n",
    "    batch_size = input.size(0)\n",
    "    chunk_len = input.size(1)\n",
    "    hidden = rnn.init_hidden(batch_size)\n",
    "    rnn.zero_grad()\n",
    "    for cur_chunk in range(chunk_len):\n",
    "        output, hidden = rnn(input[:, cur_chunk], hidden)\n",
    "        loss += criterion(output.view(batch_size, -1), target[:, cur_chunk])\n",
    "\n",
    "    loss.backward()\n",
    "    optimizer.step()\n",
    "    return (loss.data[0]/chunk_len) "
   ]
  },
  {
   "cell_type": "code",
   "execution_count": 12,
   "metadata": {},
   "outputs": [
    {
     "name": "stdout",
     "output_type": "stream",
     "text": [
      "Training for 5000 epochs...\n"
     ]
    },
    {
     "name": "stderr",
     "output_type": "stream",
     "text": [
      "/usr/local/lib/python3.5/dist-packages/ipykernel_launcher.py:24: UserWarning: invalid index of a 0-dim tensor. This will be an error in PyTorch 0.5. Use tensor.item() to convert a 0-dim tensor to a Python number\n"
     ]
    },
    {
     "name": "stdout",
     "output_type": "stream",
     "text": [
      "[2m 20s (100 2%) train loss: 2.0957, test_loss: 2.1101]\n",
      "Whince to to loed,\n",
      "That in to efare fort your the of with nok but; thet he thou siunt or well a be the \n",
      "\n",
      "[4m 42s (200 4%) train loss: 1.8665, test_loss: 1.8972]\n",
      "Whach thy with that loud lit in a, as to him a palice?\n",
      "To him proan's a madies:\n",
      "Doim do not.\n",
      "\n",
      "ORING\n",
      "Ma \n",
      "\n",
      "[7m 2s (300 6%) train loss: 1.7656, test_loss: 1.8012]\n",
      "Why, Grows amporty at\n",
      "at's exfirds, old I an with though grod beat they hath as but as my garoods me y \n",
      "\n",
      "[9m 23s (400 8%) train loss: 1.6941, test_loss: 1.7426]\n",
      "Whom I\n",
      "hear's vucan of living.\n",
      "\n",
      "GERAND:\n",
      "Come, when the deaky here barred my down\n",
      "That and I ome know a \n",
      "\n",
      "[11m 46s (500 10%) train loss: 1.6538, test_loss: 1.6836]\n",
      "Why: I less he hath so makes, ride am water and present fortenes'd, no profition disonard of his comes \n",
      "\n",
      "[14m 8s (600 12%) train loss: 1.5941, test_loss: 1.6409]\n",
      "What you between of it.\n",
      "\n",
      "EDRONICUS:\n",
      "I will never remember him,\n",
      "And I do neger in the littless promised \n",
      "\n",
      "[16m 31s (700 14%) train loss: 1.5911, test_loss: 1.6189]\n",
      "Who.\n",
      "\n",
      "MELENA:\n",
      "No, for a scall out free in the give of rue becomeful invoste underfuage,\n",
      "For which she  \n",
      "\n",
      "[18m 55s (800 16%) train loss: 1.5502, test_loss: 1.6030]\n",
      "Who play with recuse with thy heart with them in her supped for an is a riple, and ho!\n",
      "\n",
      "MEMENA:\n",
      "Nay, b \n",
      "\n",
      "[21m 18s (900 18%) train loss: 1.4936, test_loss: 1.6033]\n",
      "Why Edward you: there words the earnous candred, never to him to the mole\n",
      "it this is my more their foi \n",
      "\n",
      "[23m 42s (1000 20%) train loss: 1.5151, test_loss: 1.5730]\n",
      "Who a store a bulless of me with man.\n",
      "\n",
      "EDCULIA:\n",
      "What play you to make they may and the French's time\n",
      "I \n",
      "\n",
      "[26m 6s (1100 22%) train loss: 1.4983, test_loss: 1.5854]\n",
      "What heaven next gone: but oursoles which was new the bare.\n",
      "\n",
      "First Gedrcation of the Castalless on my  \n",
      "\n",
      "[28m 28s (1200 24%) train loss: 1.5015, test_loss: 1.5702]\n",
      "What you, sure no more,\n",
      "You are green to Caison not, you all you here and the man.\n",
      "\n",
      "KING HENRY VI:\n",
      "The \n",
      "\n",
      "[30m 51s (1300 26%) train loss: 1.4808, test_loss: 1.5585]\n",
      "What is thee saudder.\n",
      "\n",
      "First Soldier to heald.\n",
      "\n",
      "JULIET:\n",
      "Both exchange the thought the night\n",
      "That the d \n",
      "\n",
      "[33m 14s (1400 28%) train loss: 1.4696, test_loss: 1.5665]\n",
      "Whow he fell. How do it cannot be Lady and jour violors' have her cardon for the war here.\n",
      "\n",
      "EDWARD:\n",
      "It \n",
      "\n",
      "[35m 37s (1500 30%) train loss: 1.4274, test_loss: 1.5363]\n",
      "Where cannot be burning right:\n",
      "I pray you so grown.\n",
      "\n",
      "KING RENCENTIO:\n",
      "I shout.\n",
      "\n",
      "ACHILLES:\n",
      "I will be my  \n",
      "\n",
      "[38m 1s (1600 32%) train loss: 1.4094, test_loss: 1.5202]\n",
      "When like the honour,\n",
      "For that had his pelecation. But the furist to-night.\n",
      "\n",
      "MOTH:\n",
      "O think\n",
      "In honour b \n",
      "\n",
      "[40m 26s (1700 34%) train loss: 1.4218, test_loss: 1.5085]\n",
      "What they speak as we can Marry of Gods,\n",
      "To the meet;\n",
      "My last been to this; for I be expeat. Now not m \n",
      "\n",
      "[42m 51s (1800 36%) train loss: 1.4331, test_loss: 1.5374]\n",
      "Whow have I struck on the heart of you?\n",
      "\n",
      "PROTEUS:\n",
      "Thou canst loved what I may unloved mink in hands\n",
      "Fr \n",
      "\n",
      "[45m 15s (1900 38%) train loss: 1.4354, test_loss: 1.5416]\n",
      "Who with this,\n",
      "Thou to the king:\n",
      "O will but for compliness shall be the tears blood\n",
      "And say the tears\n",
      " \n",
      "\n",
      "[47m 38s (2000 40%) train loss: 1.4296, test_loss: 1.5239]\n",
      "What he the respleed\n",
      "The stop out and there is thou offence; a, if there, like a duke hold to do you,  \n",
      "\n",
      "[50m 2s (2100 42%) train loss: 1.4286, test_loss: 1.5045]\n",
      "Which this as of a better on him out.\n",
      "\n",
      "OCKING HENRY VI:\n",
      "A thinding and a monting conceunt right with i \n",
      "\n",
      "[52m 23s (2200 44%) train loss: 1.3882, test_loss: 1.5375]\n",
      "What do 'tis not to the world in the song.\n",
      "\n",
      "MISTRESS PAGE:\n",
      "I will keep away, he comes in the field in  \n",
      "\n",
      "[54m 43s (2300 46%) train loss: 1.4050, test_loss: 1.5050]\n",
      "Why, not stood to us't! thou wast did not a tooth\n",
      "Not a long toward I'll must not alone\n",
      "In thing of hi \n",
      "\n",
      "[57m 5s (2400 48%) train loss: 1.4281, test_loss: 1.4967]\n",
      "What the gods were you to be thy tears, as I do.\n",
      "\n",
      "TRANIO:\n",
      "What is a sun and breath in heaged for a sak \n",
      "\n",
      "[59m 27s (2500 50%) train loss: 1.4098, test_loss: 1.4906]\n",
      "What monster'd the duke.\n",
      "\n",
      "FALSTAFF:\n",
      "It is their wrong.\n",
      "\n",
      "KING HENRY IV:\n",
      "O, so a give him.\n",
      "\n",
      "POINS:\n",
      "I'll  \n",
      "\n",
      "[61m 49s (2600 52%) train loss: 1.3751, test_loss: 1.4774]\n",
      "Whe think'st think that vexides.\n",
      "\n",
      "ADRIAN:\n",
      "I have hold his boseath of himself:\n",
      "For what I was their sta \n",
      "\n",
      "[64m 10s (2700 54%) train loss: 1.4266, test_loss: 1.5134]\n",
      "What thou there's to the once strangely,\n",
      "'Tis the most hundred thought theresome than these flowers.\n",
      "\n",
      " \n",
      "\n",
      "[66m 31s (2800 56%) train loss: 1.4086, test_loss: 1.4661]\n",
      "Why fear and that is a guilt, and the garden enconounce the partily?\n",
      "\n",
      "PaGE:\n",
      "Is the state; it is a Lord \n",
      "\n",
      "[68m 52s (2900 57%) train loss: 1.3984, test_loss: 1.5013]\n",
      "What, what a hand\n",
      "In which in such a man'd;\n",
      "And that comes on your peace bold of it garden, and you la \n",
      "\n",
      "[71m 15s (3000 60%) train loss: 1.3602, test_loss: 1.4631]\n",
      "Who nothing wouldst we do not with me,\n",
      "So do you not are but our slack done to endage of discourtesy,  \n",
      "\n",
      "[73m 37s (3100 62%) train loss: 1.4225, test_loss: 1.4970]\n",
      "What ensinus thrust thee, I beseech you be sack of break! consider'd judgment of a mouth\n",
      "The reckation \n",
      "\n",
      "[76m 0s (3200 64%) train loss: 1.3777, test_loss: 1.4607]\n",
      "When you lord.\n",
      "\n",
      "CORNWALL:\n",
      "It born of my son;\n",
      "But to whom a heart is beew?\n",
      "\n",
      "MARK ANTONY:\n",
      "Alas, of the h \n",
      "\n",
      "[78m 21s (3300 66%) train loss: 1.3659, test_loss: 1.5021]\n",
      "Who wish his master to my very scuried hangs:\n",
      "What I mean, that what he's worth for the princes of my  \n",
      "\n",
      "[80m 42s (3400 68%) train loss: 1.3761, test_loss: 1.4671]\n",
      "What she come, heaven so seek to the flowers crown for an answer them i' the embrach him.\n",
      "\n",
      "LAFEU:\n",
      "So f \n",
      "\n",
      "[83m 5s (3500 70%) train loss: 1.3633, test_loss: 1.4881]\n",
      "What adversumber, and to heaven from him?\n",
      "\n",
      "ORLANDO:\n",
      "I thank you?\n",
      "\n",
      "HAMLET:\n",
      "Now, now I have a seamon hav \n",
      "\n",
      "[85m 27s (3600 72%) train loss: 1.3456, test_loss: 1.4731]\n",
      "What justing to usual complexion never, is indeed.\n",
      "\n",
      "EROS:\n",
      "An honour medy 'good Gremiar!\n",
      "A partfully pr \n",
      "\n",
      "[87m 51s (3700 74%) train loss: 1.3565, test_loss: 1.4680]\n",
      "Why and thou must be well in me too.\n",
      "\n",
      "PROGURET:\n",
      "I know the heart of blood; slawn, I have capp thee? wh \n",
      "\n",
      "[90m 13s (3800 76%) train loss: 1.3379, test_loss: 1.4814]\n",
      "What would I cannot make my wifes the Turks\n",
      "The centrate, 'tis here,\n",
      "Untime upon my sparing her reason \n",
      "\n",
      "[92m 34s (3900 78%) train loss: 1.3615, test_loss: 1.4762]\n",
      "Where in thy head in his wise and arms?\n",
      "\n",
      "BIRON:\n",
      "Reason inknowled me, and get you aid white marriage.\n",
      "\n",
      " \n",
      "\n",
      "[94m 56s (4000 80%) train loss: 1.3878, test_loss: 1.4614]\n",
      "Whererery: carro conveyed the contend with no longer sholy emperor and the French where he comes to se \n",
      "\n",
      "[97m 17s (4100 82%) train loss: 1.3499, test_loss: 1.4666]\n",
      "Where is the supply we down;\n",
      "But you make you dull can marries him 'hoped such a goodness it,\n",
      "But shir \n",
      "\n",
      "[99m 40s (4200 84%) train loss: 1.3712, test_loss: 1.4876]\n",
      "What things at his chil angry, to small breath the senses so such a subtless, and like rusby, thou art \n",
      "\n",
      "[102m 2s (4300 86%) train loss: 1.3618, test_loss: 1.5180]\n",
      "Who, nor you so following me: be compare the\n",
      "claming in brow in the deed\n",
      "must true,\n",
      "The king hath shou \n",
      "\n",
      "[104m 25s (4400 88%) train loss: 1.3446, test_loss: 1.4934]\n",
      "Who's for thee. Commend pricket way to himself:\n",
      "But not so.\n",
      "\n",
      "DUKE VINCENTIO:\n",
      "But that you convers indi \n",
      "\n",
      "[106m 48s (4500 90%) train loss: 1.3659, test_loss: 1.4814]\n",
      "Why would give you to the fault\n",
      "As so, make this comfort so linest brought you. So then I told you, Mo \n",
      "\n",
      "[109m 11s (4600 92%) train loss: 1.3453, test_loss: 1.4696]\n",
      "What you not well desire your half:\n",
      "There's not enter in the good of great graving men are upon me pri \n",
      "\n",
      "[111m 33s (4700 94%) train loss: 1.3422, test_loss: 1.4780]\n",
      "Where the field:\n",
      "My grace from your love from the numbing and little his present creature.\n",
      "It is not f \n",
      "\n",
      "[113m 55s (4800 96%) train loss: 1.3571, test_loss: 1.4686]\n",
      "Whom heavy sorrow,\n",
      "By thee lives:\n",
      "If you do take you good.\n",
      "\n",
      "DESDEMONA:\n",
      "So did the mean i' them\n",
      "taken m \n",
      "\n",
      "[116m 19s (4900 98%) train loss: 1.3579, test_loss: 1.4925]\n",
      "Why, the morning to the cleantual true?\n",
      "\n",
      "LAUNCE:\n",
      "Was depart is of a vausiness are heart:\n",
      "He go us; whe \n",
      "\n",
      "[118m 42s (5000 100%) train loss: 1.3373, test_loss: 1.4821]\n",
      "Whow you use the cause,\n",
      "not your kingdom we then all the time.\n",
      "\n",
      "AENEAS:\n",
      "Yes, sir, thine in Verre.\n",
      "\n",
      "FAL \n",
      "\n"
     ]
    }
   ],
   "source": [
    "rnn = RNN(n_characters, hidden_size, n_characters, model_type=model_type, n_layers=n_layers).to(device)\n",
    "rnn_optimizer = torch.optim.Adam(rnn.parameters(), lr=learning_rate)\n",
    "# Adding scheduler for learning rate descent\n",
    "# scheduler = torch.optim.lr_scheduler.StepLR(rnn_optimizer, step_size=500, gamma=0.77)\n",
    "\n",
    "criterion = nn.CrossEntropyLoss()\n",
    "\n",
    "start = time.time()\n",
    "all_losses = []\n",
    "test_losses = []\n",
    "loss_avg = 0\n",
    "test_loss_avg = 0\n",
    "\n",
    "\n",
    "print(\"Training for %d epochs...\" % n_epochs)\n",
    "for epoch in range(1, n_epochs + 1):\n",
    "#     scheduler.step()\n",
    "    loss = train(rnn, *load_random_batch(train_text, chunk_len, batch_size), rnn_optimizer, criterion)\n",
    "    loss_avg += loss\n",
    "    \n",
    "    test_loss = eval_test(rnn, *load_random_batch(test_text, chunk_len, batch_size))\n",
    "    test_loss_avg += test_loss\n",
    "\n",
    "    if epoch % print_every == 0:\n",
    "        print('[%s (%d %d%%) train loss: %.4f, test_loss: %.4f]' % (time_since(start), epoch, epoch / n_epochs * 100, loss, test_loss))\n",
    "        print(generate(rnn, 'Wh', 100, device=device), '\\n')\n",
    "\n",
    "    if epoch % plot_every == 0:\n",
    "        all_losses.append(loss_avg / plot_every)\n",
    "        test_losses.append(test_loss_avg / plot_every)\n",
    "        loss_avg = 0\n",
    "        test_loss_avg = 0"
   ]
  },
  {
   "cell_type": "code",
   "execution_count": 13,
   "metadata": {},
   "outputs": [],
   "source": [
    "# save network\n",
    "torch.save(rnn.state_dict(), './rnn_generator.pth')"
   ]
  },
  {
   "cell_type": "markdown",
   "metadata": {},
   "source": [
    "# Plot the Training and Test Losses"
   ]
  },
  {
   "cell_type": "code",
   "execution_count": 14,
   "metadata": {},
   "outputs": [
    {
     "name": "stdout",
     "output_type": "stream",
     "text": [
      "50\n"
     ]
    },
    {
     "data": {
      "text/plain": [
       "[<matplotlib.lines.Line2D at 0x7f2298f444e0>]"
      ]
     },
     "execution_count": 14,
     "metadata": {},
     "output_type": "execute_result"
    },
    {
     "data": {
      "image/png": "[encoded data removed]",
      "text/plain": [
       "<Figure size 432x288 with 1 Axes>"
      ]
     },
     "metadata": {},
     "output_type": "display_data"
    }
   ],
   "source": [
    "import matplotlib.pyplot as plt\n",
    "import matplotlib.ticker as ticker\n",
    "print(len(all_losses))\n",
    "plt.figure()\n",
    "plt.plot(all_losses)\n",
    "plt.plot(test_losses, color='r')"
   ]
  },
  {
   "cell_type": "markdown",
   "metadata": {},
   "source": [
    "# Evaluate text generation\n",
    "\n",
    "Check what the outputted text looks like"
   ]
  },
  {
   "cell_type": "code",
   "execution_count": 15,
   "metadata": {},
   "outputs": [
    {
     "name": "stdout",
     "output_type": "stream",
     "text": [
      "Thou shalt be much to thee, Cain, such action to the death.\n",
      "\n",
      "JULIET:\n",
      "There now my master\n",
      "Made him better to thee in the ring:\n",
      "Adermen, let not this comes how their own age\n",
      "Stands to decains the senses\n",
      "With amiss.\n",
      "\n",
      "LUCIANA:\n",
      "There's not in all here:\n",
      "The rich entertainted her stand upon a followers,\n",
      "And show his art death; and all dark thou calm, that you are plays,\n",
      "The tremble in my coloers still.\n",
      "\n",
      "PRINCE HENRY:\n",
      "The prasking very next dream, sir.\n",
      "\n",
      "SIR, I think to longer made me well: speak the next of the death-day. But is the gods that begin my life.\n",
      "\n",
      "EDGAR:\n",
      "Here comes Ford is wronged limberland,\n",
      "Upon this talk of that song!\n",
      "\n",
      "GOBBO:\n",
      "This doth must be happiness,\n",
      "From her than to granted of me.\n",
      "\n",
      "ANTIPO:\n",
      "Thou dost news straight braggar in his courteous counce of brothers,\n",
      "Troth, you see no doubt, he is, of the wind to hear thy brothers in commend her self. What, can you shall be say in a present;\n",
      "We can have lose say without thee against her.\n",
      "\n",
      "YORK:\n",
      "I have shines of one hand of the lates. I \n"
     ]
    }
   ],
   "source": [
    "print(evaluate(rnn, prime_str='Th', predict_len=1000))"
   ]
  },
  {
   "cell_type": "markdown",
   "metadata": {},
   "source": [
    "# Hyperparameter Tuning\n",
    "\n",
    "Some things you should try to improve your network performance are:\n",
    "- Different RNN types. Switch the basic RNN network in your model to a GRU and LSTM to compare all three.\n",
    "- Try adding 1 or two more layers\n",
    "- Increase the hidden layer size\n",
    "- Changing the learning rate\n",
    "\n",
    "**TODO:** Try changing the RNN type and hyperparameters. Record your results."
   ]
  }
 ],
 "metadata": {
  "anaconda-cloud": {},
  "kernelspec": {
   "display_name": "Python 3",
   "language": "python",
   "name": "python3"
  },
  "language_info": {
   "codemirror_mode": {
    "name": "ipython",
    "version": 3
   },
   "file_extension": ".py",
   "mimetype": "text/x-python",
   "name": "python",
   "nbconvert_exporter": "python",
   "pygments_lexer": "ipython3",
   "version": "3.5.3"
  }
 },
 "nbformat": 4,
 "nbformat_minor": 1
}
