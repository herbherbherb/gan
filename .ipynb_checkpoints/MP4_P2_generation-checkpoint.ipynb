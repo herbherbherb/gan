{
 "cells": [
  {
   "cell_type": "markdown",
   "metadata": {},
   "source": [
    "# Generating Text with an RNN"
   ]
  },
  {
   "cell_type": "code",
   "execution_count": 40,
   "metadata": {},
   "outputs": [
    {
     "name": "stdout",
     "output_type": "stream",
     "text": [
      "The autoreload extension is already loaded. To reload it, use:\n",
      "  %reload_ext autoreload\n"
     ]
    }
   ],
   "source": [
    "# !pip install --ignore-installed unidecode\n",
    "import unidecode\n",
    "import string\n",
    "import random\n",
    "import re\n",
    "import time\n",
    "\n",
    "import torch\n",
    "import torch.nn as nn\n",
    "\n",
    "%matplotlib inline\n",
    "\n",
    "%load_ext autoreload\n",
    "%autoreload 2"
   ]
  },
  {
   "cell_type": "code",
   "execution_count": 41,
   "metadata": {},
   "outputs": [],
   "source": [
    "from rnn.model import RNN\n",
    "from rnn.helpers import time_since\n",
    "from rnn.generate import generate"
   ]
  },
  {
   "cell_type": "code",
   "execution_count": 42,
   "metadata": {
    "scrolled": true
   },
   "outputs": [],
   "source": [
    "# device = torch.device(\"cuda:0\" if torch.cuda.is_available() else \"cpu\")\n",
    "device = \"cpu\""
   ]
  },
  {
   "cell_type": "markdown",
   "metadata": {},
   "source": [
    "## Data Processing\n",
    "\n",
    "The file we are using is a plain text file. We turn any potential unicode characters into plain ASCII by using the `unidecode` package (which you can install via `pip` or `conda`)."
   ]
  },
  {
   "cell_type": "code",
   "execution_count": 43,
   "metadata": {},
   "outputs": [
    {
     "name": "stdout",
     "output_type": "stream",
     "text": [
      "file_len = 4573338\n",
      "train len:  4116004\n",
      "test len:  457334\n"
     ]
    }
   ],
   "source": [
    "all_characters = string.printable\n",
    "n_characters = len(all_characters)\n",
    "\n",
    "file_path = './shakespeare.txt'\n",
    "file = unidecode.unidecode(open(file_path).read())\n",
    "file_len = len(file)\n",
    "print('file_len =', file_len)\n",
    "\n",
    "# we will leave the last 1/10th of text as test\n",
    "split = int(0.9*file_len)\n",
    "train_text = file[:split]\n",
    "test_text = file[split:]\n",
    "\n",
    "print('train len: ', len(train_text))\n",
    "print('test len: ', len(test_text))"
   ]
  },
  {
   "cell_type": "code",
   "execution_count": 44,
   "metadata": {},
   "outputs": [
    {
     "name": "stdout",
     "output_type": "stream",
     "text": [
      "GLOUCESTER:\n",
      "Well, my good lord, I have inform'd them so.\n",
      "\n",
      "KING LEAR:\n",
      "Inform'd them! Dost thou understand me, man?\n",
      "\n",
      "GLOUCESTER:\n",
      "Ay, my good lord.\n",
      "\n",
      "KING LEAR:\n",
      "The king would speak with Cornwall; the dear\n"
     ]
    }
   ],
   "source": [
    "chunk_len = 200\n",
    "\n",
    "def random_chunk(text):\n",
    "    start_index = random.randint(0, len(text) - chunk_len)\n",
    "    end_index = start_index + chunk_len + 1\n",
    "    return text[start_index:end_index]\n",
    "\n",
    "print(random_chunk(train_text))"
   ]
  },
  {
   "cell_type": "markdown",
   "metadata": {},
   "source": [
    "### Input and Target data"
   ]
  },
  {
   "cell_type": "markdown",
   "metadata": {},
   "source": [
    "To make training samples out of the large string of text data, we will be splitting the text into chunks.\n",
    "\n",
    "Each chunk will be turned into a tensor, specifically a `LongTensor` (used for integer values), by looping through the characters of the string and looking up the index of each character in `all_characters`."
   ]
  },
  {
   "cell_type": "code",
   "execution_count": 45,
   "metadata": {},
   "outputs": [],
   "source": [
    "# Turn string into list of longs\n",
    "def char_tensor(string):\n",
    "    tensor = torch.zeros(len(string), requires_grad=True).long()\n",
    "    for c in range(len(string)):\n",
    "        tensor[c] = all_characters.index(string[c])\n",
    "    return tensor"
   ]
  },
  {
   "cell_type": "markdown",
   "metadata": {},
   "source": [
    "The following function loads a batch of input and target tensors for training. Each sample comes from a random chunk of text. A sample input will consist of all characters *except the last*, while the target wil contain all characters *following the first*. For example: if random_chunk='abc', then input='ab' and target='bc'"
   ]
  },
  {
   "cell_type": "code",
   "execution_count": 46,
   "metadata": {},
   "outputs": [],
   "source": [
    "def load_random_batch(text, chunk_len, batch_size):\n",
    "    input_data = torch.zeros(batch_size, chunk_len).long().to(device)\n",
    "    target = torch.zeros(batch_size, chunk_len).long().to(device)\n",
    "    for i in range(batch_size):\n",
    "        start_index = random.randint(0, len(text) - chunk_len - 1)\n",
    "        end_index = start_index + chunk_len + 1\n",
    "        chunk = text[start_index:end_index]\n",
    "        input_data[i] = char_tensor(chunk[:-1])\n",
    "        target[i] = char_tensor(chunk[1:])\n",
    "    return input_data, target"
   ]
  },
  {
   "cell_type": "markdown",
   "metadata": {},
   "source": [
    "# Implement model\n",
    "\n",
    "Your RNN model will take as input the character for step $t_{-1}$ and output a prediction for the next character $t$. The model should consiste of three layers - a linear layer that encodes the input character into an embedded state, an RNN layer (which may itself have multiple layers) that operates on that embedded state and a hidden state, and a decoder layer that outputs the predicted character scores distribution.\n",
    "\n",
    "\n",
    "You must implement your model in the `rnn/model.py` file. You should use a `nn.Embedding` object for the encoding layer, a RNN model like `nn.RNN` or `nn.LSTM`, and a `nn.Linear` layer for the final a predicted character score decoding layer.\n",
    "\n",
    "\n",
    "**TODO:** Implement the model in RNN `rnn/model.py`"
   ]
  },
  {
   "cell_type": "markdown",
   "metadata": {},
   "source": [
    "# Evaluating\n",
    "\n",
    "To evaluate the network we will feed one character at a time, use the outputs of the network as a probability distribution for the next character, and repeat. To start generation we pass a priming string to start building up the hidden state, from which we then generate one character at a time.\n",
    "\n",
    "\n",
    "Note that in the `evaluate` function, every time a prediction is made the outputs are divided by the \"temperature\" argument. Higher temperature values make actions more equally likely giving more \"random\" outputs. Lower temperature values (less than 1) high likelihood options contribute more. A temperature near 0 outputs only the most likely outputs.\n",
    "\n",
    "You may check different temperature values yourself, but we have provided a default which should work well."
   ]
  },
  {
   "cell_type": "code",
   "execution_count": 47,
   "metadata": {},
   "outputs": [],
   "source": [
    "def evaluate(rnn, prime_str='A', predict_len=100, temperature=0.8):\n",
    "    hidden = rnn.init_hidden(1, device=device)\n",
    "    prime_input = char_tensor(prime_str)\n",
    "    predicted = prime_str\n",
    "\n",
    "    # Use priming string to \"build up\" hidden state\n",
    "    for p in range(len(prime_str) - 1):\n",
    "        _, hidden = rnn(prime_input[p].unsqueeze(0).to(device), hidden)\n",
    "    inp = prime_input[-1]\n",
    "    \n",
    "    for p in range(predict_len):\n",
    "        output, hidden = rnn(inp.unsqueeze(0).to(device), hidden)\n",
    "        \n",
    "        # Sample from the network as a multinomial distribution\n",
    "        output_dist = output.data.view(-1).div(temperature).exp()\n",
    "        top_i = torch.multinomial(output_dist, 1)[0]\n",
    "        \n",
    "        # Add predicted character to string and use as next input\n",
    "        predicted_char = all_characters[top_i]\n",
    "        predicted += predicted_char\n",
    "        inp = char_tensor(predicted_char)\n",
    "\n",
    "    return predicted"
   ]
  },
  {
   "cell_type": "markdown",
   "metadata": {},
   "source": [
    "# Train RNN"
   ]
  },
  {
   "cell_type": "code",
   "execution_count": 48,
   "metadata": {},
   "outputs": [],
   "source": [
    "batch_size = 100\n",
    "n_epochs = 5000\n",
    "hidden_size = 100\n",
    "n_layers = 1\n",
    "learning_rate = 0.01\n",
    "model_type = 'rnn'\n",
    "print_every = 100\n",
    "plot_every = 100\n"
   ]
  },
  {
   "cell_type": "code",
   "execution_count": 49,
   "metadata": {},
   "outputs": [],
   "source": [
    "def eval_test(rnn, inp, target):\n",
    "    with torch.no_grad():\n",
    "        hidden = rnn.init_hidden(batch_size, device=device)\n",
    "        loss = 0\n",
    "        for c in range(chunk_len):\n",
    "            output, hidden = rnn(inp[:,c], hidden)\n",
    "            loss += criterion(output.view(batch_size, -1), target[:,c])\n",
    "    \n",
    "    return loss.data.item() / chunk_len"
   ]
  },
  {
   "cell_type": "markdown",
   "metadata": {},
   "source": [
    "### Train function\n",
    "\n",
    "**TODO**: Fill in the train function. You should initialize a hidden layer representation using your RNN's `init_hidden` function, set the model gradients to zero, and loop over each time step (character) in the input tensor. For each time step compute the output of the of the RNN and compute the loss over the output and the corresponding ground truth time step in `target`. The loss should be averaged over all time steps. Lastly, call backward on the averaged loss and take an optimizer step.\n"
   ]
  },
  {
   "cell_type": "code",
   "execution_count": 50,
   "metadata": {},
   "outputs": [],
   "source": [
    "def train(rnn, input, target, optimizer, criterion):\n",
    "    \"\"\"\n",
    "    Inputs:\n",
    "    - rnn: model\n",
    "    - input: input character data tensor of shape (batch_size, chunk_len)\n",
    "    - target: target character data tensor of shape (batch_size, chunk_len)\n",
    "    - optimizer: rnn model optimizer\n",
    "    - criterion: loss function\n",
    "    \n",
    "    Returns:\n",
    "    - loss: computed loss value as python float\n",
    "    \"\"\"\n",
    "    loss = 0\n",
    "    batch_size = input.size(0)\n",
    "    chunk_len = input.size(1)\n",
    "    hidden = rnn.init_hidden(batch_size)\n",
    "    rnn.zero_grad()\n",
    "    for cur_chunk in range(chunk_len):\n",
    "        output, hidden = rnn(input[:, cur_chunk], hidden)\n",
    "        loss += criterion(output.view(batch_size, -1), target[:, cur_chunk])\n",
    "\n",
    "    loss.backward()\n",
    "    optimizer.step()\n",
    "    return (loss.data[0]/chunk_len) "
   ]
  },
  {
   "cell_type": "code",
   "execution_count": 51,
   "metadata": {},
   "outputs": [
    {
     "name": "stdout",
     "output_type": "stream",
     "text": [
      "Training for 4000 epochs...\n"
     ]
    },
    {
     "name": "stderr",
     "output_type": "stream",
     "text": [
      "/usr/local/lib/python3.5/dist-packages/ipykernel_launcher.py:24: UserWarning: invalid index of a 0-dim tensor. This will be an error in PyTorch 0.5. Use tensor.item() to convert a 0-dim tensor to a Python number\n"
     ]
    },
    {
     "name": "stdout",
     "output_type": "stream",
     "text": [
      "[1m 29s (100 2%) train loss: 1.9373, test_loss: 1.9664]\n",
      "When noce, thou comer:\n",
      "You lows? be your of the lallen hall and hon that and thear! in the jashald it  \n",
      "\n",
      "[2m 59s (200 5%) train loss: 1.8268, test_loss: 1.8558]\n",
      "Which do no reisn my wange.\n",
      "\n",
      "BERO:\n",
      "I commation thee of hosk shall trom overy would suming the father i \n",
      "\n",
      "[4m 29s (300 7%) train loss: 1.7315, test_loss: 1.8206]\n",
      "Why, for hander bape.\n",
      "\n",
      "SHALLOH:\n",
      "Then we heart all did dook beftices for my hear newnce of give,\n",
      "As Lor \n",
      "\n",
      "[5m 59s (400 10%) train loss: 1.7237, test_loss: 1.8182]\n",
      "Where with on with, is our mastles\n",
      "Hath judions'd of think upon mestable to his to this by this shall  \n",
      "\n",
      "[7m 29s (500 12%) train loss: 1.6937, test_loss: 1.7671]\n",
      "While, we pleasors,\n",
      "Fell him sleeps the Lord,\n",
      "Nor spore, make me.\n",
      "\n",
      "BORTEM:\n",
      "My good the pard.\n",
      "\n",
      "KING OF  \n",
      "\n",
      "[8m 58s (600 15%) train loss: 1.6842, test_loss: 1.7693]\n",
      "Who a fail, of her his can enceing. No! Are and rendies it jeishes, Rome with'd to be is I will theref \n",
      "\n",
      "[10m 28s (700 17%) train loss: 1.6691, test_loss: 1.7437]\n",
      "Whered have and which now I concear so can the man sumil, her ends; and he all me,\n",
      "Thou knave; what th \n",
      "\n",
      "[11m 58s (800 20%) train loss: 1.6765, test_loss: 1.7314]\n",
      "What some inst this a bolest bed, by the will will be have will us: but that what.\n",
      "\n",
      "DUCHESS OF YORDINI \n",
      "\n",
      "[13m 29s (900 22%) train loss: 1.6295, test_loss: 1.7425]\n",
      "Which the seek deart;\n",
      "And mase a trustart with the can well--\n",
      "come:\n",
      "For this we in think hear-bought n \n",
      "\n",
      "[14m 58s (1000 25%) train loss: 1.6546, test_loss: 1.7362]\n",
      "What nobs that in me of threath, I will all is them,\n",
      "Is freet how speak ingold sengan sworly to enemy\n",
      " \n",
      "\n",
      "[16m 29s (1100 27%) train loss: 1.6620, test_loss: 1.7341]\n",
      "Where never round of of me: what the little,\n",
      "Be with state, as not and be powers may as thy band! then \n",
      "\n",
      "[17m 58s (1200 30%) train loss: 1.6270, test_loss: 1.7488]\n",
      "Where imported,\n",
      "And me from him so be not my fellowing in thee call of his hangon, think not come ungo \n",
      "\n",
      "[19m 28s (1300 32%) train loss: 1.6410, test_loss: 1.7065]\n",
      "Where a best beligan! I could capt; and the parden all doth never with calker, sir,\n",
      "Which than on the  \n",
      "\n",
      "[20m 56s (1400 35%) train loss: 1.6251, test_loss: 1.7377]\n",
      "Whome his purpess rund again\n",
      "How he should I imprink Lords\n",
      "With heaven for answer;\n",
      "And be noble a gate \n",
      "\n",
      "[22m 26s (1500 37%) train loss: 1.6217, test_loss: 1.7068]\n",
      "Wheren sier this runger, God on the father:\n",
      "Sirlted he will to be this doth for the more beature her t \n",
      "\n",
      "[23m 56s (1600 40%) train loss: 1.6310, test_loss: 1.7345]\n",
      "Where and bring all\n",
      "Villief learner, for that burtain his wook, fain, ewand'd what thou lease and rest \n",
      "\n",
      "[25m 25s (1700 42%) train loss: 1.6519, test_loss: 1.7508]\n",
      "Whey he been for thee fegal.\n",
      "Go sprove the tongue come his timent your and must hath-busder on the los \n",
      "\n",
      "[26m 54s (1800 45%) train loss: 1.6268, test_loss: 1.7397]\n",
      "Whour head my cannot man, a never best and counter faillse with and Caerable, and be found them and po \n",
      "\n",
      "[28m 24s (1900 47%) train loss: 1.6106, test_loss: 1.7346]\n",
      "Whour mesce,\n",
      "Androw,\n",
      "Whel not that shrilt not poor gare on my send let our fait my lord his bear to yo \n",
      "\n",
      "[29m 52s (2000 50%) train loss: 1.6138, test_loss: 1.7564]\n",
      "Where which it eyes Hermaling--\n",
      "\n",
      "SILVIUS:\n",
      "Good grace, what?\n",
      "Which despain of were you shall not gost\n",
      "M \n",
      "\n",
      "[31m 21s (2100 52%) train loss: 1.6563, test_loss: 1.6960]\n",
      "When I will ast, Daught blood child them, let it in the fore, if speak a heart so their with to prease \n",
      "\n",
      "[32m 50s (2200 55%) train loss: 1.6026, test_loss: 1.7292]\n",
      "Where not blute, to and time a most offencied mine worth.\n",
      "\n",
      "PANDARUS:\n",
      "How curs friend are the prit the  \n",
      "\n",
      "[34m 19s (2300 57%) train loss: 1.6272, test_loss: 1.7052]\n",
      "Wheered in all to-depiritict to this preaus.\n",
      "\n",
      "QUEEN AESH:\n",
      "What hath with her sone to action great in t \n",
      "\n",
      "[35m 48s (2400 60%) train loss: 1.6131, test_loss: 1.7000]\n",
      "Where his thanks up with our sign\n",
      "That's new-lied it of still like no loud the give I mark, I fiest an \n",
      "\n",
      "[37m 17s (2500 62%) train loss: 1.5962, test_loss: 1.7209]\n",
      "Where are his crown me of remage of for, they or of the way the bare\n",
      "for mine do my sair be too any at \n",
      "\n",
      "[38m 46s (2600 65%) train loss: 1.6017, test_loss: 1.7085]\n",
      "Wheak assulente\n",
      "Of our come thee for shall wrelire may hath know a very from it of this pards is, if h \n",
      "\n",
      "[40m 15s (2700 67%) train loss: 1.5984, test_loss: 1.7062]\n",
      "Wheeds, and are the or that diet of from that yet give the but complial deward!\n",
      "\n",
      "EDGAR:\n",
      "Go once of the \n",
      "\n",
      "[41m 44s (2800 70%) train loss: 1.6281, test_loss: 1.7161]\n",
      "Whou will my shopes him come,\n",
      "My lord, and Roact,\n",
      "Altile, but the descourest and him.\n",
      "\n",
      "GLOUCESTER:\n",
      "And \n",
      "\n",
      "[43m 14s (2900 72%) train loss: 1.5826, test_loss: 1.7040]\n",
      "Where to fightry well. Beseech\n",
      "And which any our remblen and thee opreing on Antony and serve them com \n",
      "\n",
      "[44m 43s (3000 75%) train loss: 1.6235, test_loss: 1.7406]\n",
      "Whey had his ancestruse as mador:\n",
      "But I'll some in the very with us smorn, Ford in the still mother of \n",
      "\n",
      "[46m 12s (3100 77%) train loss: 1.5905, test_loss: 1.7155]\n",
      "Whet was.\n",
      "\n",
      "LORD BIANCA:\n",
      "Can me, prayer! 'Tis ear your belicome to this thave of his arm and should not \n",
      "\n",
      "[47m 40s (3200 80%) train loss: 1.5900, test_loss: 1.6739]\n",
      "Where scoglast: I have with a best, what should sta and your traithore in the into you, for thy reiess \n",
      "\n",
      "[49m 9s (3300 82%) train loss: 1.6398, test_loss: 1.6735]\n",
      "Whey serving what the will the slown;\n",
      "A have grace,\n",
      "Trong of master:--this for a more in the sirans, a \n",
      "\n",
      "[50m 38s (3400 85%) train loss: 1.6023, test_loss: 1.6984]\n",
      "Whou lain'd that sir,\n",
      "The woman whose holds and hate her and basuirge, her have in a place.\n",
      "\n",
      "Second Sh \n",
      "\n",
      "[52m 7s (3500 87%) train loss: 1.5835, test_loss: 1.7040]\n",
      "Whim AnLe death where I will man, this stunGered me,\n",
      "This mowarment I could with condord.\n",
      "\n",
      "PETRUCHIO:\n",
      " \n",
      "\n",
      "[53m 36s (3600 90%) train loss: 1.6155, test_loss: 1.7370]\n",
      "Where unseef is we him did did are a contend?\n",
      "\n",
      "Third he mean sualtinent of her many the bid to the lov \n",
      "\n",
      "[55m 4s (3700 92%) train loss: 1.5758, test_loss: 1.7319]\n",
      "Where and should not think,\n",
      "That me boss yates well and sees.\n",
      "\n",
      "PAROLLES:\n",
      "Whose thee leave to your cher \n",
      "\n",
      "[56m 33s (3800 95%) train loss: 1.5877, test_loss: 1.6945]\n",
      "Where he crown\n",
      "That the was from you puppence.\n",
      "\n",
      "LORD LYREN:\n",
      "Pear my man here addace and store of the c \n",
      "\n",
      "[58m 2s (3900 97%) train loss: 1.6257, test_loss: 1.7059]\n",
      "Where is steal, I will see heaven, but to every this, go him, if you lift of Prildon of put of the loo \n",
      "\n",
      "[59m 31s (4000 100%) train loss: 1.6113, test_loss: 1.6997]\n",
      "Whim, mumbert.\n",
      "\n",
      "PAGABLA:\n",
      "No\n",
      "Anderielf\n",
      "come.\n",
      "Uporning of the love your are not coat of lady, and outhou \n",
      "\n"
     ]
    }
   ],
   "source": [
    "rnn = RNN(n_characters, hidden_size, n_characters, model_type=model_type, n_layers=n_layers).to(device)\n",
    "rnn_optimizer = torch.optim.Adam(rnn.parameters(), lr=learning_rate)\n",
    "# Adding scheduler for learning rate descent\n",
    "scheduler = torch.optim.lr_scheduler.StepLR(rnn_optimizer, step_size=500, gamma=0.77)\n",
    "\n",
    "criterion = nn.CrossEntropyLoss()\n",
    "\n",
    "start = time.time()\n",
    "all_losses = []\n",
    "test_losses = []\n",
    "loss_avg = 0\n",
    "test_loss_avg = 0\n",
    "\n",
    "\n",
    "print(\"Training for %d epochs...\" % n_epochs)\n",
    "for epoch in range(1, n_epochs + 1):\n",
    "    scheduler.step()\n",
    "    loss = train(rnn, *load_random_batch(train_text, chunk_len, batch_size), rnn_optimizer, criterion)\n",
    "    loss_avg += loss\n",
    "    \n",
    "    test_loss = eval_test(rnn, *load_random_batch(test_text, chunk_len, batch_size))\n",
    "    test_loss_avg += test_loss\n",
    "\n",
    "    if epoch % print_every == 0:\n",
    "        print('[%s (%d %d%%) train loss: %.4f, test_loss: %.4f]' % (time_since(start), epoch, epoch / n_epochs * 100, loss, test_loss))\n",
    "        print(generate(rnn, 'Wh', 100, device=device), '\\n')\n",
    "\n",
    "    if epoch % plot_every == 0:\n",
    "        all_losses.append(loss_avg / plot_every)\n",
    "        test_losses.append(test_loss_avg / plot_every)\n",
    "        loss_avg = 0\n",
    "        test_loss_avg = 0"
   ]
  },
  {
   "cell_type": "code",
   "execution_count": 52,
   "metadata": {},
   "outputs": [],
   "source": [
    "# save network\n",
    "torch.save(rnn.state_dict(), './rnn_generator.pth')"
   ]
  },
  {
   "cell_type": "markdown",
   "metadata": {},
   "source": [
    "# Plot the Training and Test Losses"
   ]
  },
  {
   "cell_type": "code",
   "execution_count": 53,
   "metadata": {},
   "outputs": [
    {
     "name": "stdout",
     "output_type": "stream",
     "text": [
      "40\n"
     ]
    },
    {
     "data": {
      "text/plain": [
       "[<matplotlib.lines.Line2D at 0x7f8ffb397390>]"
      ]
     },
     "execution_count": 53,
     "metadata": {},
     "output_type": "execute_result"
    },
    {
     "data": {
      "image/png": "[encoded data removed]",
      "text/plain": [
       "<Figure size 432x288 with 1 Axes>"
      ]
     },
     "metadata": {},
     "output_type": "display_data"
    }
   ],
   "source": [
    "import matplotlib.pyplot as plt\n",
    "import matplotlib.ticker as ticker\n",
    "print(len(all_losses))\n",
    "plt.figure()\n",
    "plt.plot(all_losses)\n",
    "plt.plot(test_losses, color='r')"
   ]
  },
  {
   "cell_type": "markdown",
   "metadata": {},
   "source": [
    "# Evaluate text generation\n",
    "\n",
    "Check what the outputted text looks like"
   ]
  },
  {
   "cell_type": "code",
   "execution_count": 54,
   "metadata": {},
   "outputs": [
    {
     "name": "stdout",
     "output_type": "stream",
     "text": [
      "The--\n",
      "\n",
      "FALSTAFF:\n",
      "Repirimon, look as a mas me, comperved his days mine and to subdectle all thou have nothing, wonce, I wear of the trade a reportify the would not is with thy forestentle passes.\n",
      "\n",
      "MARIS:\n",
      "O honeat set this hole:\n",
      "A word, which the itsey, the sight I shame cortress in passous his she would conscience, no lord to revenge in my heart here and least the there:\n",
      "And it is the\n",
      "proud here sickly all enden your vile had for pain;\n",
      "The men\n",
      "Even to relays the bander'd a best them fixed of made to hour heard accuse as as no son, it to so peace but me now, to a hund, there is me. I the strept meire them and worth, and affections in it duke\n",
      "And you, not\n",
      "\n",
      "QUINCE:\n",
      "No, raps to ged fishing you, and that you think he is our bend not\n",
      "to them ducketly pity my stord, as I mean, I next may their wisence; an all, what thy intently!\n",
      "\n",
      "PRINCE HENRY:\n",
      "And when the charlour in vis and fawish his will he may well must it: falion, o'er.\n",
      "\n",
      "BENEDICK:\n",
      "He am honest\n",
      "Not dream;\n",
      "And best of promondain here constro\n"
     ]
    }
   ],
   "source": [
    "print(evaluate(rnn, prime_str='Th', predict_len=1000))"
   ]
  },
  {
   "cell_type": "markdown",
   "metadata": {},
   "source": [
    "# Hyperparameter Tuning\n",
    "\n",
    "Some things you should try to improve your network performance are:\n",
    "- Different RNN types. Switch the basic RNN network in your model to a GRU and LSTM to compare all three.\n",
    "- Try adding 1 or two more layers\n",
    "- Increase the hidden layer size\n",
    "- Changing the learning rate\n",
    "\n",
    "**TODO:** Try changing the RNN type and hyperparameters. Record your results."
   ]
  }
 ],
 "metadata": {
  "anaconda-cloud": {},
  "kernelspec": {
   "display_name": "Python 3",
   "language": "python",
   "name": "python3"
  },
  "language_info": {
   "codemirror_mode": {
    "name": "ipython",
    "version": 3
   },
   "file_extension": ".py",
   "mimetype": "text/x-python",
   "name": "python",
   "nbconvert_exporter": "python",
   "pygments_lexer": "ipython3",
   "version": "3.5.3"
  }
 },
 "nbformat": 4,
 "nbformat_minor": 1
}
