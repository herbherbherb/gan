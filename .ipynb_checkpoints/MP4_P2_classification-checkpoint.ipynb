{
 "cells": [
  {
   "cell_type": "code",
   "execution_count": 91,
   "metadata": {},
   "outputs": [],
   "source": [
    "import os\n",
    "import time\n",
    "import math\n",
    "import glob\n",
    "import string\n",
    "import random \n",
    "\n",
    "import torch\n",
    "import torch.nn as nn\n",
    "\n",
    "from rnn.helpers import time_since\n",
    "\n",
    "%matplotlib inline"
   ]
  },
  {
   "cell_type": "code",
   "execution_count": 92,
   "metadata": {},
   "outputs": [],
   "source": [
    "device = torch.device(\"cuda:0\" if torch.cuda.is_available() else \"cpu\")\n",
    "# device = \"cpu\""
   ]
  },
  {
   "cell_type": "markdown",
   "metadata": {},
   "source": [
    "# Language recognition with an RNN\n",
    "\n",
    "If you've ever used an online translator you've probably seen a feature that automatically detects the input language. While this might be easy to do if you input unicode characters that are unique to one or a small group of languages (like \"你好\" or \"γεια σας\"), this problem is more challenging if the input only uses the available ASCII characters. In this case, something like \"těší mě\" would beome \"tesi me\" in the ascii form. This is a more challenging problem in which the language must be recognized purely by the pattern of characters rather than unique unicode characters.\n",
    "\n",
    "We will train an RNN to solve this problem for a small set of languages thta can be converted to romanized ASCII form. For training data it would be ideal to have a large and varied dataset in different language styles. However, it is easy to find copies of the Bible which is a large text translated to different languages but in the same easily parsable format, so we will use 20 different copies of the Bible as training data. Using the same book for all of the different languages will hopefully prevent minor overfitting that might arise if we used different books for each language (fitting to common characteristics of the individual books rather than the language)."
   ]
  },
  {
   "cell_type": "code",
   "execution_count": 93,
   "metadata": {},
   "outputs": [
    {
     "name": "stdout",
     "output_type": "stream",
     "text": [
      "tesi me\n"
     ]
    }
   ],
   "source": [
    "from unidecode import unidecode as unicodeToAscii\n",
    "\n",
    "all_characters = string.printable\n",
    "n_letters = len(all_characters)\n",
    "\n",
    "print(unicodeToAscii('těší mě'))"
   ]
  },
  {
   "cell_type": "code",
   "execution_count": 94,
   "metadata": {},
   "outputs": [],
   "source": [
    "# Read a file and split into lines\n",
    "def readFile(filename):\n",
    "    data = open(filename, encoding='utf-8').read().strip()\n",
    "    return unicodeToAscii(data)\n",
    "\n",
    "def get_category_data(data_path):\n",
    "    # Build the category_data dictionary, a list of names per language\n",
    "    category_data = {}\n",
    "    all_categories = []\n",
    "    for filename in glob.glob(data_path):\n",
    "        category = os.path.splitext(os.path.basename(filename))[0].split('_')[0]\n",
    "        all_categories.append(category)\n",
    "        data = readFile(filename)\n",
    "        category_data[category] = data\n",
    "    \n",
    "    return category_data, all_categories"
   ]
  },
  {
   "cell_type": "markdown",
   "metadata": {},
   "source": [
    "The original text is split into two parts, train and test, so that we can make sure that the model is not simply memorizing the train data."
   ]
  },
  {
   "cell_type": "code",
   "execution_count": 95,
   "metadata": {},
   "outputs": [
    {
     "name": "stdout",
     "output_type": "stream",
     "text": [
      "20\n",
      "['italian', 'czech', 'turkish', 'albanian', 'vietnamese', 'xhosa', 'danish', 'maori', 'swedish', 'lithuanian', 'english', 'spanish', 'portuguese', 'finnish', 'hungarian', 'romanian', 'french', 'norwegian', 'esperanto', 'german']\n"
     ]
    }
   ],
   "source": [
    "train_data_path = 'language_data/train/*_train.txt'\n",
    "test_data_path = 'language_data/test/*_test.txt'\n",
    "\n",
    "train_category_data, all_categories = get_category_data(train_data_path)\n",
    "test_category_data, test_all_categories = get_category_data(test_data_path)\n",
    "\n",
    "n_languages = len(all_categories)\n",
    "\n",
    "print(len(all_categories))\n",
    "print(all_categories)"
   ]
  },
  {
   "cell_type": "markdown",
   "metadata": {},
   "source": [
    "# Data processing"
   ]
  },
  {
   "cell_type": "code",
   "execution_count": 96,
   "metadata": {},
   "outputs": [],
   "source": [
    "def categoryFromOutput(output):\n",
    "    top_n, top_i = output.topk(1, dim=1)\n",
    "    category_i = top_i[:, 0]\n",
    "    return category_i\n",
    "\n",
    "# Turn string into long tensor\n",
    "def stringToTensor(string):\n",
    "    tensor = torch.zeros(len(string), requires_grad=True).long()\n",
    "    for c in range(len(string)):\n",
    "        tensor[c] = all_characters.index(string[c])\n",
    "    return tensor\n",
    "\n",
    "def load_random_batch(text, chunk_len, batch_size):\n",
    "    input_data = torch.zeros(batch_size, chunk_len).long().to(device)\n",
    "    target = torch.zeros(batch_size, 1).long().to(device)\n",
    "    input_text = []\n",
    "    for i in range(batch_size):\n",
    "        category = all_categories[random.randint(0, len(all_categories) - 1)]\n",
    "        line_start = random.randint(0, len(text[category])-chunk_len)\n",
    "        category_tensor = torch.tensor([all_categories.index(category)], dtype=torch.long)\n",
    "        line = text[category][line_start:line_start+chunk_len]\n",
    "        input_text.append(line)\n",
    "        input_data[i] = stringToTensor(line)\n",
    "        target[i] = category_tensor\n",
    "    return input_data, target, input_text"
   ]
  },
  {
   "cell_type": "markdown",
   "metadata": {},
   "source": [
    "Implement Model\n",
    "====================\n",
    "\n",
    "For this classification task, we can use the same model we implement for the generation task which is located in `rnn/model.py`. See the `MP4_P2_generation.ipynb` notebook for more instructions. In this case each output vector of our RNN will have the dimension of the number of possible languages (i.e. `n_languages`). We will use this vector to predict a distribution over the languages.\n",
    "\n",
    "In the generation task, we used the output of the RNN at every time step to predict the next letter and our loss included the output from each of these predictions. However, in this task we use the output of the RNN at the end of the sequence to predict the language, so our loss function will use only the predicted output from the last time step.\n",
    "\n"
   ]
  },
  {
   "cell_type": "markdown",
   "metadata": {},
   "source": [
    "# Train RNN"
   ]
  },
  {
   "cell_type": "code",
   "execution_count": 97,
   "metadata": {},
   "outputs": [],
   "source": [
    "from rnn.model import RNN"
   ]
  },
  {
   "cell_type": "code",
   "execution_count": 98,
   "metadata": {},
   "outputs": [],
   "source": [
    "chunk_len = 80\n",
    "\n",
    "BATCH_SIZE = 100\n",
    "n_epochs = 2000\n",
    "hidden_size = 100\n",
    "n_layers = 1\n",
    "learning_rate = 0.01\n",
    "model_type = 'lstm'\n",
    "\n",
    "criterion = nn.CrossEntropyLoss()\n",
    "rnn = RNN(n_letters, hidden_size, n_languages, model_type=model_type, n_layers=n_layers).to(device)"
   ]
  },
  {
   "cell_type": "markdown",
   "metadata": {},
   "source": [
    "**TODO:** Fill in the train function. You should initialize a hidden layer representation using your RNN's `init_hidden` function, set the model gradients to zero, and loop over each time step (character) in the input tensor. For each time step compute the output of the of the RNN and the next hidden layer representation. The cross entropy loss should be computed over the last RNN output scores from the end of the sequence and the target classification tensor. Lastly, call backward on the loss and take an optimizer step."
   ]
  },
  {
   "cell_type": "code",
   "execution_count": 99,
   "metadata": {},
   "outputs": [],
   "source": [
    "def train(rnn, target_tensor, data_tensor, optimizer, criterion, batch_size=BATCH_SIZE):\n",
    "    \"\"\"\n",
    "    Inputs:\n",
    "    - rnn: model\n",
    "    - target_tensor: target character data tensor of shape (batch_size, 1)\n",
    "    - data_tensor: input character data tensor of shape (batch_size, chunk_len)\n",
    "    - optimizer: rnn model optimizer\n",
    "    - criterion: loss function\n",
    "    - batch_size: data batch size\n",
    "    \n",
    "    Returns:\n",
    "    - output: output from RNN from end of sequence \n",
    "    - loss: computed loss value as python float\n",
    "    TODO: Fill in the train function. You should initialize a hidden layer representation \n",
    "    using your RNN's init_hidden function, set the model gradients to zero, and loop over \n",
    "    each time step (character) in the input tensor. For each time step compute the output of \n",
    "    the of the RNN and the next hidden layer representation. The cross entropy loss should be \n",
    "    computed over the last RNN output scores from the end of \n",
    "    the sequence and the target classification tensor. Lastly, call backward on the loss and take an optimizer step.\n",
    "    \"\"\"\n",
    "    output, loss = None, None\n",
    "    ####################################\n",
    "    #          YOUR CODE HERE          #\n",
    "    ####################################\n",
    "    hidden = rnn.init_hidden(batch_size, device=device)\n",
    "    rnn.zero_grad()\n",
    "    for i in range(data_tensor.size()[1]):\n",
    "        output, hidden = rnn(data_tensor[:, i], hidden)\n",
    "        \n",
    "    loss = criterion(output, target_tensor.squeeze())\n",
    "    loss.backward()\n",
    "    optimizer.step()\n",
    "    ##########       END      ##########\n",
    "\n",
    "    return output, loss"
   ]
  },
  {
   "cell_type": "code",
   "execution_count": 100,
   "metadata": {},
   "outputs": [],
   "source": [
    "def evaluate(rnn, data_tensor, seq_len=chunk_len, batch_size=BATCH_SIZE):\n",
    "    with torch.no_grad():\n",
    "        data_tensor = data_tensor.to(device)\n",
    "        hidden = rnn.init_hidden(batch_size, device=device)\n",
    "        for i in range(seq_len):\n",
    "            output, hidden = rnn(data_tensor[:,i], hidden)\n",
    "        \n",
    "        return output\n",
    "    \n",
    "def eval_test(rnn, category_tensor, data_tensor):\n",
    "    with torch.no_grad():\n",
    "        output = evaluate(rnn, data_tensor)\n",
    "        loss = criterion(output, category_tensor.squeeze())\n",
    "        return output, loss.item()"
   ]
  },
  {
   "cell_type": "code",
   "execution_count": 101,
   "metadata": {
    "scrolled": true
   },
   "outputs": [
    {
     "name": "stdout",
     "output_type": "stream",
     "text": [
      "50 0% (0m 9s) 2.0508 2.0147 zekiya wayinqamla igolide yeengcango zetempile kaYehova, nemigubasi abeyalekile  / maori ✗ (xhosa)\n",
      "Train accuracy: 0.188\n",
      "700 11% (2m 11s) 0.3027 0.2296 i fia, ki Mikri fia, es Mesullam, Sefatja fia, ki Reuel fia, ki Ibnija fia [vala / lithuanian ✗ (hungarian)\n",
      "Train accuracy: 0.9324\n",
      "750 12% (2m 19s) 0.1314 0.0956 skall jag veta detta?  Jag ar ju sjalv gammal, och min hustru ar kommen till hog / swedish ✓\n",
      "Train accuracy: 0.931\n",
      "800 13% (2m 28s) 0.1314 0.0968 se entregaran unos a otros, y unos a otros se aborreceran. Y muchos falsos profe / spanish ✓\n",
      "Train accuracy: 0.9454\n",
      "850 14% (2m 37s) 0.1527 0.0760 cka per t'ju thene\". Atehere Jonathani i tha shqyrtarit te tij: \"Eja pas meje, s / albanian ✓\n",
      "Train accuracy: 0.9396\n",
      "900 15% (2m 46s) 0.2966 0.1720 ag er det hugget bort en stamme av Israel. Hvad skal vi gjore for dem som er til / norwegian ✓\n",
      "Train accuracy: 0.936\n",
      "950 15% (2m 55s) 0.1855 0.1160 Ode dne, co kral odesel, az do dne, co se v pokoji vratil, nepecoval o sve nohy  / czech ✓\n",
      "Train accuracy: 0.9446\n",
      "1000 16% (3m 4s) 0.0918 0.0680 ham var paskreven saledes: \"Jodernes Konge\". Og de korsfaeste to Rovere sammen m / norwegian ✗ (danish)\n",
      "Train accuracy: 0.9522\n",
      "1050 17% (3m 13s) 0.1651 0.1387  sayiyor,<br />Garip oldum gozlerinde. Kolemi cagiriyorum, yanitlamiyor,<br />Di / turkish ✓\n",
      "Train accuracy: 0.9534\n",
      "1100 18% (3m 22s) 0.0811 0.0599 kom in till henne och sade: >>Hell dig, du hogtbenadade!  Herren ar med dig.>> M / swedish ✓\n",
      "Train accuracy: 0.9576\n",
      "1150 19% (3m 31s) 0.1069 0.0896  P Na ka mea te kingi, Ko wai kei te marae? Na tera a Hamana kua tae mai ki te m / maori ✓\n",
      "Train accuracy: 0.9622\n",
      "1200 20% (3m 40s) 0.1330 0.1119 re si j'envoyais la peste dans ce pays, et que je repandisse sur lui ma fureur j / french ✓\n",
      "Train accuracy: 0.9594\n",
      "1250 20% (3m 49s) 0.1275 0.1010 aji nicemnostmi, ti, kdo rozsivaji trapeni, je take sklidi. Hynou Bozim dechem,  / czech ✓\n",
      "Train accuracy: 0.9622\n",
      "1300 21% (3m 58s) 0.1458 0.1098 donc vers Hoham roi de Hebron, vers Piram roi de Jarmuth, vers Japhia roi de Lak / french ✓\n",
      "Train accuracy: 0.9614\n",
      "1350 22% (4m 7s) 0.0429 0.0403 o jam atsitike. Kadangi isgydytas luosys laikesi Petro ir Jono, prie ju i vadina / lithuanian ✓\n",
      "Train accuracy: 0.965\n",
      "1400 23% (4m 16s) 0.0724 0.0524 a. Enquanto ele ainda falava s multidoes, estavam do lado de fora sua mae e seus / portuguese ✓\n",
      "Train accuracy: 0.9666\n",
      "1450 24% (8m 17s) 0.0517 0.0444 campo da sua possessao, o sacerdote lhe contara o valor da tua avaliacao ate o a / portuguese ✓\n",
      "Train accuracy: 0.9704\n",
      "1500 25% (8m 26s) 0.0436 0.0362  the son of Jesse. Then all Israel gathered themselves to David unto Hebron, say / english ✓\n",
      "Train accuracy: 0.968\n",
      "1550 25% (8m 35s) 0.1696 0.1262 e qui est, a deja ete, et ce qui doit etre a deja ete, et Dieu ramene ce qui est / albanian ✗ (french)\n",
      "Train accuracy: 0.9684\n",
      "1600 26% (8m 44s) 0.1664 0.1301 nd voi fi cu voi? Pina cind va voi suferi? Aduceti -l la Mine.`` L-au adus la El / romanian ✓\n",
      "Train accuracy: 0.9678\n",
      "1650 27% (8m 53s) 0.1503 0.1261 e mea i kaiponuhia e ahau ta nga rawakore i hiahia ai, a meinga ana e ahau nga k / maori ✓\n",
      "Train accuracy: 0.969\n",
      "1700 28% (9m 2s) 0.1032 0.0794 o del vientre. Como saetas en mano del valiente, Asi son los hijos habidos en la / spanish ✓\n",
      "Train accuracy: 0.967\n",
      "1750 29% (9m 11s) 0.0234 0.0167 nto her; that she may bear upon my knees, and I also may obtain children by her. / english ✓\n",
      "Train accuracy: 0.9694\n",
      "1800 30% (9m 20s) 0.0901 0.0570  se co ke ngheo trong xu luon luon, nen ta moi dan bieu nguoi ma rang: Kha se ta / vietnamese ✓\n",
      "Train accuracy: 0.968\n",
      "1850 30% (9m 29s) 0.1371 0.1045 bohy, za bozstvy tech narodu, ktere byly kolem nich, a klaneli se jim. Tak Hospo / czech ✓\n",
      "Train accuracy: 0.9674\n",
      "1900 31% (9m 38s) 0.0386 0.0280 suus ottaa vastaan hopeaa ja hankkia vaatteita, oliivitarhoja ja viinitarhoja, l / finnish ✓\n",
      "Train accuracy: 0.9748\n",
      "1950 32% (9m 47s) 0.0828 0.0521 ou un miracle, Et que ce signe ou ce miracle, dont il t'aura parle, arrive, et q / french ✓\n",
      "Train accuracy: 0.973\n",
      "2000 33% (9m 56s) 0.0749 0.0469 n en dorr, sa bomma vi for den med en cederplanka.>> >>Jag ar en mur, och min ba / swedish ✓\n",
      "Train accuracy: 0.9734\n",
      "2050 34% (10m 5s) 0.0351 0.0262 , Hasabias, Zachu, Serebias, Sebanias, Odaia, Bani, Beninu. Cabezas del pueblo:  / spanish ✓\n",
      "Train accuracy: 0.972\n",
      "2100 35% (10m 14s) 0.0993 0.0878 pois assim diz o rei da Assiria: Fazei paz comigo, e sai a mim; e coma cada um d / portuguese ✓\n",
      "Train accuracy: 0.9736\n",
      "2150 35% (10m 23s) 0.1658 0.1410 nge av hans disipler gikk med ham, og meget folk. Da han nu kom naer til byens p / norwegian ✓\n",
      "Train accuracy: 0.977\n",
      "2200 36% (10m 32s) 0.0206 0.0163 g mot cai ban tho xong huong bang cay si-tim, hinh vuong, be dai mot thuoc, be n / vietnamese ✓\n",
      "Train accuracy: 0.9786\n",
      "2250 37% (10m 41s) 0.0833 0.0408 loi chieu toi. Ngay sau le Vuot qua, chanh nay do, dan su an tho san cua xu, ban / vietnamese ✓\n",
      "Train accuracy: 0.9802\n",
      "2300 38% (10m 50s) 0.0713 0.0597  desaparecei; porque realizo uma obra em vossos dias, obra em que de modo algum  / portuguese ✓\n",
      "Train accuracy: 0.9792\n",
      "2350 39% (10m 59s) 0.0962 0.0827  dig for ut som et lyn. For jeg har lyst til kjaerlighet og ikke til slaktoffer, / norwegian ✓\n",
      "Train accuracy: 0.9784\n",
      "2400 40% (11m 8s) 0.0483 0.0411 s sur iliaj altajxoj. Kaj Moseo supreniris de la stepo de Moab sur la monton Neb / esperanto ✓\n",
      "Train accuracy: 0.9788\n",
      "2450 40% (11m 17s) 0.0767 0.0628 a uma efa para o carneiro; e para o cordeiro, a oferta de cereais sera o que pud / portuguese ✓\n",
      "Train accuracy: 0.9778\n",
      "2500 41% (11m 26s) 0.0289 0.0246  yasam verir. Baba kimseyi yargilamaz, butun yargilama isini Ogula vermistir. Oy / turkish ✓\n",
      "Train accuracy: 0.9808\n",
      "2550 42% (11m 35s) 0.0957 0.0847 ed essa li partori a Giacobbe: in tutto sedici persone. I figliuoli di Rachele,  / italian ✓\n",
      "Train accuracy: 0.9798\n",
      "2600 43% (11m 44s) 0.0354 0.0305 ten for drabanterna, nagra kvar i Juda land, och gav dem samtidigt vingardar och / swedish ✓\n",
      "Train accuracy: 0.9778\n",
      "2650 44% (11m 53s) 0.1002 0.0890 ays d'Egypte, afin d'amasser du chaume pour tenir lieu de paille. Et les exacteu / french ✓\n",
      "Train accuracy: 0.9764\n",
      "2700 45% (12m 2s) 0.0391 0.0321 ngua judaica, aos ouvidos do povo que esta em cima do muro. Rabsaque, porem, lhe / portuguese ✓\n",
      "Train accuracy: 0.9796\n",
      "2750 45% (12m 11s) 0.0203 0.0170 ek primou cestu. Ostychal jsem se totiz zadat od krale ozbrojeny doprovod a jizd / czech ✓\n",
      "Train accuracy: 0.9834\n",
      "2800 46% (12m 20s) 0.0303 0.0274 iah e Ana. Figliuoli di Ana: Dishon. Figliuoli di Dishon: Hamran, Eshban, Jthran / italian ✓\n",
      "Train accuracy: 0.9834\n",
      "2850 47% (12m 29s) 0.0162 0.0137 . Juozapas surinko is Egipto salies ir Kanaano salies visus pinigus, parduodamas / lithuanian ✓\n",
      "Train accuracy: 0.9838\n",
      "2900 48% (12m 38s) 0.0582 0.0453 m. Davutun bu ogullarinin hepsi Hevronda dogdular. Saulun soyuyla Davutun soyu a / turkish ✓\n",
      "Train accuracy: 0.9854\n",
      "2950 49% (12m 47s) 0.0818 0.0750 ske konungens, hand, och de hade fruktat andra gudar. De hade ock vandrat efter  / swedish ✓\n",
      "Train accuracy: 0.98\n",
      "3000 50% (12m 56s) 0.0879 0.0533 ay la trong ngay to phu cac nguoi sao? Hay ke chuyen nay lai cho con cai cac ngu / vietnamese ✓\n",
      "Train accuracy: 0.9812\n",
      "3050 50% (13m 5s) 0.0743 0.0696 oi Ep-ra-im? Ta se lam gi cho nguoi, hoi Giu-da? Vi long nhon tu cua cac nguoi g / vietnamese ✓\n",
      "Train accuracy: 0.984\n",
      "3100 51% (13m 14s) 0.0175 0.0162 h nay, chang xa ten trong no, cung chang keo den gio khien len truoc mat no, va  / vietnamese ✓\n",
      "Train accuracy: 0.9842\n",
      "3150 52% (13m 23s) 0.0584 0.0493 t ma hun spise; alt, hvad jeg bod hende, skal hun overholde!\" Da sagde Manoa til / danish ✓\n",
      "Train accuracy: 0.9816\n",
      "3200 53% (13m 32s) 0.0333 0.0281 ue of your pasture? and to have drunk of the clear waters, but ye must foul the  / english ✓\n",
      "Train accuracy: 0.9804\n",
      "3250 54% (13m 41s) 0.0653 0.0599 ta kthej Elamin nga roberia\", thote Zoti. Fjala qe Zoti shqiptoi kunder Babiloni / albanian ✓\n",
      "Train accuracy: 0.9834\n",
      "3300 55% (13m 50s) 0.0634 0.0555 rendima! Tokia garbe visiems Jo sventiesiems. Girkite Viespati! Girkite Viespati / lithuanian ✓\n",
      "Train accuracy: 0.984\n",
      "3350 55% (13m 59s) 0.0547 0.0494 ja rukoilkaa, ettette joutuisi kiusaukseen. Tahtoa ihmisella on, mutta luonto on / finnish ✓\n",
      "Train accuracy: 0.982\n"
     ]
    },
    {
     "name": "stdout",
     "output_type": "stream",
     "text": [
      "3400 56% (14m 8s) 0.0274 0.0126 provazy, spoutala ho jimi a krikla na neho: \"Samsone, jdou na tebe Pelistejci!\"  / czech ✓\n",
      "Train accuracy: 0.981\n",
      "3450 57% (14m 17s) 0.0217 0.0202 RN an und das Spiel der Trompeten, unter der Fuhrung der Musikinstrumente Davids / german ✓\n",
      "Train accuracy: 0.984\n",
      "3500 58% (14m 26s) 0.0301 0.0252 pellera: Mon plaisir en elle, et ta terre: La mariee; car l'Eternel mettra son p / french ✓\n",
      "Train accuracy: 0.9824\n",
      "3550 59% (14m 35s) 0.0161 0.0146  tiuj, kiuj iris en la militon, estis:da sxafoj tricent tridek sep mil kvincent; / esperanto ✓\n",
      "Train accuracy: 0.9852\n",
      "3600 60% (14m 44s) 0.0091 0.0087 unus\". Eliziejus klause: \"Kuo galiu padeti? Sakyk, ka turi namuose?\" Ji atsake:  / lithuanian ✓\n",
      "Train accuracy: 0.984\n",
      "3650 60% (14m 53s) 0.0423 0.0349  du uns verstossen hast? Oder solltest du, o Gott, nicht ausziehen mit unserm He / german ✓\n",
      "Train accuracy: 0.986\n",
      "3700 61% (15m 2s) 0.0328 0.0249 ayitlarinin getirilip kendisine okunmasini buyurdu. Kayitlar Kral Ahasverosu old / turkish ✓\n",
      "Train accuracy: 0.9838\n",
      "3750 62% (15m 11s) 0.0366 0.0313 mate kanaaniecio Suvos dukteri ir paeme ja, ir iejo pas ja. Ji pastojo ir pagimd / lithuanian ✓\n",
      "Train accuracy: 0.9838\n",
      "3800 63% (15m 20s) 0.0074 0.0073 . Kaj Agripo diris al Festo:Volonte ankaux mi auxskultus tiun viron.  Morgaux, l / esperanto ✓\n",
      "Train accuracy: 0.9842\n",
      "3850 64% (15m 29s) 0.0104 0.0097 a yonke exhobayo nengaphezulu, ema emdeni. Avuka kusasa, ilanga lithe chapha ema / xhosa ✓\n",
      "Train accuracy: 0.984\n",
      "3900 65% (15m 38s) 0.1063 0.0942 oy, para que los guardes y cumplas. Y no te apartes de todas las palabras que yo / spanish ✓\n",
      "Train accuracy: 0.9866\n",
      "3950 65% (15m 47s) 0.0234 0.0198 n av Hilkia, sonn av Mesullam, sonn av Sadok, sonn av Merajot, sonn av Akitub, f / norwegian ✓\n",
      "Train accuracy: 0.9872\n",
      "4000 66% (15m 56s) 0.1118 0.0973 eget. Az Ur, Izraelnek Istene az o oroksegok, a mint szolott vala nekik. Ezek pe / hungarian ✓\n",
      "Train accuracy: 0.9846\n",
      "4050 67% (16m 5s) 0.0650 0.0624 de en talent gull, og der var pa den en kostbar sten; nu kom den pa Davids hode. / norwegian ✓\n",
      "Train accuracy: 0.9866\n",
      "4100 68% (16m 14s) 0.0127 0.0125 ag skall gora strommarna till torr mark och salja landet i onda mans hand.  Jag  / swedish ✓\n",
      "Train accuracy: 0.987\n",
      "4150 69% (16m 23s) 0.0253 0.0239 o de hordeo. Tiam Ricpa, filino de Aja, prenis sakon, kaj etendis gxin super si  / esperanto ✓\n",
      "Train accuracy: 0.988\n",
      "4200 70% (16m 32s) 0.0075 0.0071 e shume te bien. Ah, eshte bere per te shkelqyer, eshte mprehur per masakren. aa / albanian ✓\n",
      "Train accuracy: 0.9868\n",
      "4250 70% (16m 41s) 0.0168 0.0160 eturnis kaj ekvidis la angxelon, li kaj liaj kvar filoj kun li sin kasxis. Ornan / esperanto ✓\n",
      "Train accuracy: 0.9858\n",
      "4300 71% (16m 50s) 0.0260 0.0247 s passos dos necessitados. O caminho do justo e plano; tu, que es reto, nivelas  / portuguese ✓\n",
      "Train accuracy: 0.9894\n",
      "4350 72% (17m 0s) 0.0355 0.0342  which was our father's hath he gotten all this glory. And Jacob beheld the coun / english ✓\n",
      "Train accuracy: 0.987\n",
      "4400 73% (17m 9s) 0.0122 0.0118 nga tangata o Hukota, ka mea, Tenei a Tepa raua ko Taramuna, i whakorekore ra ko / maori ✓\n",
      "Train accuracy: 0.9876\n",
      "4450 74% (17m 17s) 0.0532 0.0493 olet minulle tehnyt, ei kukaan saisi tehda.\" Abimelek kysyi viela Abrahamilta: \" / finnish ✓\n",
      "Train accuracy: 0.9886\n",
      "4500 75% (17m 26s) 0.0067 0.0065 enek, legy segitsegemre; ha pedig az Ammon fiai rajtad vennenek erot, en is megs / hungarian ✓\n",
      "Train accuracy: 0.988\n",
      "4550 75% (17m 35s) 0.0287 0.0275  groaza in tara celor vii. Si tu vei fi zdrobit in mijlocul celor netaiati impre / romanian ✓\n",
      "Train accuracy: 0.9884\n",
      "4600 76% (17m 44s) 0.0782 0.0747 ha, e tres mil e seiscentos inspetores sobre eles. E Salomao mandou dizer a Hura / portuguese ✓\n",
      "Train accuracy: 0.9864\n",
      "4650 77% (17m 53s) 0.1287 0.1248 t ham. Da nu Joderne, som vare hos hende i Huset og trostede hende, sa, at Maria / danish ✓\n",
      "Train accuracy: 0.9868\n",
      "4700 78% (18m 2s) 0.0262 0.0238 re i min Faders hus? Men de forstod ikke det ord han talte til dem. Og han gikk  / danish ✗ (norwegian)\n",
      "Train accuracy: 0.9882\n",
      "4750 79% (18m 11s) 0.0119 0.0099 Dar niekada suteptas ir nesvarus maistas nebuvo mano burnoje'. Bet balsas is dan / lithuanian ✓\n",
      "Train accuracy: 0.988\n",
      "4800 80% (18m 20s) 0.0088 0.0086 t, obratim tve cesty proti tobe a tve ohavnosti vyvstanou uprostred tebe. I pozn / czech ✓\n",
      "Train accuracy: 0.991\n",
      "4850 80% (18m 29s) 0.0724 0.0664 le annetusta tuliuhrista. \"Jos tahdot tuoda ruokauhrilahjaksi jotakin uunissa pa / finnish ✓\n",
      "Train accuracy: 0.9856\n",
      "4900 81% (18m 38s) 0.0734 0.0708  hela besattningen i Sikems torn hade forsamlat sig dar, gick han med allt sitt  / swedish ✓\n",
      "Train accuracy: 0.989\n",
      "4950 82% (18m 47s) 0.0178 0.0174 et e shikon prapa, nuk eshte i pershtatshem per mbreterine e Perendise''. Pastaj / albanian ✓\n",
      "Train accuracy: 0.9892\n",
      "5000 83% (18m 56s) 0.0290 0.0265 puta noa i tetahi pito. P Na kia akona koutou e te piki ki tetahi kupu whakarite / maori ✓\n",
      "Train accuracy: 0.991\n",
      "5050 84% (19m 5s) 0.0122 0.0120 Ikiz>> diye anilan Tomas, Isa geldiginde onlarla birlikte degildi. Obur ogrencil / turkish ✓\n",
      "Train accuracy: 0.9872\n",
      "5100 85% (19m 14s) 0.0170 0.0162 i vao tay thu nghich. Khi ta dan su doi kem den, muoi nguoi nu se nuong banh cua / vietnamese ✓\n",
      "Train accuracy: 0.989\n",
      "5150 85% (19m 23s) 0.0606 0.0588 in.\" Abraham vastasi: \"Mina olen rohjennut puhua sinulle, Herra, vaikka olenkin  / finnish ✓\n",
      "Train accuracy: 0.9872\n",
      "5200 86% (19m 32s) 0.0238 0.0234 hupha izwi lakho,  ukhale eHabharim; ngokuba zaphukile zonke izithandane zakho.  / xhosa ✓\n",
      "Train accuracy: 0.9872\n",
      "5250 87% (19m 40s) 0.0138 0.0136 or sig Flid med under Solen? Alle hans Dage er jo Lidelse, og hans Slid er Graem / danish ✓\n",
      "Train accuracy: 0.9902\n",
      "5300 88% (19m 49s) 0.0516 0.0497 o su Sauliumi, o Dovydas sugrizo is Sauliaus pas teva i Betlieju aviu ganyti. Fi / lithuanian ✓\n",
      "Train accuracy: 0.9894\n",
      "5350 89% (19m 58s) 0.0041 0.0041 os recordara todas las cosas que os he dicho. La paz os dejo, mi paz os doy: no  / spanish ✓\n",
      "Train accuracy: 0.987\n",
      "5400 90% (20m 7s) 0.0947 0.0916 r jeg givet dem, for at de skulle vaere eet, ligesom vi ere eet, jeg i dem og du / norwegian ✗ (danish)\n",
      "Train accuracy: 0.9868\n",
      "5450 90% (20m 16s) 0.0931 0.0917 dejo. Tu skolinsi daugeliui tautu, bet nieko neimsi skolon, viespatausi daugeliu / lithuanian ✓\n",
      "Train accuracy: 0.985\n",
      "5500 91% (20m 25s) 0.0064 0.0064 itre, Moise a dit: Si quelqu'un meurt sans enfants, son frere epousera sa veuve, / french ✓\n",
      "Train accuracy: 0.9912\n",
      "5550 92% (20m 34s) 0.0424 0.0406 eiksiu, kad seimininkas atima is manes ukvedziavima? Kasti neistengiu, o elgetau / lithuanian ✓\n",
      "Train accuracy: 0.99\n",
      "5600 93% (20m 43s) 0.0219 0.0194  ezulu. Usuka ke umbingeleli omkhulu azikrazule iingubo zakhe,  athi, Sisawafune / xhosa ✓\n",
      "Train accuracy: 0.984\n",
      "5650 94% (20m 52s) 0.0343 0.0303 op alltsammans pa honom. Och han satte pa honom brostskolden och lade urim och t / swedish ✓\n",
      "Train accuracy: 0.987\n",
      "5700 95% (21m 1s) 0.0884 0.0843 yecek payini azalttim. Ahlaksiz davranisindan utanc duyan dusmanlarin Filist kiz / turkish ✓\n",
      "Train accuracy: 0.9878\n",
      "5750 95% (21m 10s) 0.0207 0.0197 antsi. Wandisa khona: nanko umntu, okubonakala kunjengokubonakala kobhedu, ephet / xhosa ✓\n",
      "Train accuracy: 0.9908\n",
      "5800 96% (21m 19s) 0.0358 0.0347 and. Er schuttet Verachtung uber die Edeln und lost den Gurtel der Starken auf.  / german ✓\n",
      "Train accuracy: 0.9882\n",
      "5850 97% (21m 29s) 0.0202 0.0195 ki a ratou, He aha ta koutou e whakapawerawera i te wahine nei? he mahi pai hoki / maori ✓\n",
      "Train accuracy: 0.9884\n",
      "5900 98% (21m 38s) 0.0121 0.0119 r scrie zapisuri, se vor pecetlui, se vor pune martori, in tara lui Beniamin si  / romanian ✓\n",
      "Train accuracy: 0.9894\n",
      "5950 99% (21m 47s) 0.0179 0.0168 ai buvo grazus ir vaisiu taip gausu, kad maisto ant jo uzteko visiems. Jo pavesy / lithuanian ✓\n",
      "Train accuracy: 0.988\n",
      "6000 100% (21m 56s) 0.0449 0.0347 mkani; la madoda, oonyana bakaTseruya, alukhuni kum.  Akwaba uYehova angambuyeke / xhosa ✓\n",
      "Train accuracy: 0.9898\n"
     ]
    }
   ],
   "source": [
    "n_iters = 8000 #2000 #100000\n",
    "print_every = 50\n",
    "plot_every = 50\n",
    "\n",
    "\n",
    "# Keep track of losses for plotting\n",
    "current_loss = 0\n",
    "current_test_loss = 0\n",
    "all_losses = []\n",
    "all_test_losses = []\n",
    "\n",
    "start = time.time()\n",
    "\n",
    "optimizer = torch.optim.Adam(rnn.parameters(), lr=learning_rate)\n",
    "scheduler = torch.optim.lr_scheduler.StepLR(optimizer, step_size=1000, gamma=0.5)\n",
    "number_correct = 0\n",
    "for iter in range(1, n_iters + 1):\n",
    "    scheduler.step()\n",
    "    input_data, target_category, text_data = load_random_batch(train_category_data, chunk_len, BATCH_SIZE)\n",
    "    output, loss = train(rnn, target_category, input_data, optimizer, criterion)\n",
    "    current_loss += loss\n",
    "    \n",
    "    _, test_loss = eval_test(rnn, target_category, input_data)\n",
    "    current_test_loss += test_loss\n",
    "    \n",
    "    guess_i = categoryFromOutput(output)\n",
    "    number_correct += (target_category.squeeze()==guess_i.squeeze()).long().sum()\n",
    "    \n",
    "    # Print iter number, loss, name and guess\n",
    "    if iter % print_every == 0:\n",
    "        sample_idx = 0\n",
    "        guess = all_categories[guess_i[sample_idx]]\n",
    "        \n",
    "        category = all_categories[int(target_category[sample_idx])]\n",
    "        \n",
    "        correct = '✓' if guess == category else '✗ (%s)' % category\n",
    "        print('%d %d%% (%s) %.4f %.4f %s / %s %s' % (iter, iter / n_iters * 100, time_since(start), loss, test_loss, text_data[sample_idx], guess, correct))\n",
    "        print('Train accuracy: {}'.format(float(number_correct)/float(print_every*BATCH_SIZE)))\n",
    "        number_correct = 0\n",
    "    \n",
    "    # Add current loss avg to list of losses\n",
    "    if iter % plot_every == 0:\n",
    "        all_losses.append(current_loss / plot_every)\n",
    "        current_loss = 0\n",
    "        all_test_losses.append(current_test_loss / plot_every)\n",
    "        current_test_loss = 0"
   ]
  },
  {
   "cell_type": "markdown",
   "metadata": {},
   "source": [
    "Plot loss functions\n",
    "--------------------\n",
    "\n"
   ]
  },
  {
   "cell_type": "code",
   "execution_count": 102,
   "metadata": {
    "scrolled": true
   },
   "outputs": [
    {
     "data": {
      "text/plain": [
       "[<matplotlib.lines.Line2D at 0x7fb8c5c7dba8>]"
      ]
     },
     "execution_count": 102,
     "metadata": {},
     "output_type": "execute_result"
    },
    {
     "data": {
      "image/png": "[encoded data removed]",
      "text/plain": [
       "<Figure size 432x288 with 1 Axes>"
      ]
     },
     "metadata": {},
     "output_type": "display_data"
    }
   ],
   "source": [
    "import matplotlib.pyplot as plt\n",
    "import matplotlib.ticker as ticker\n",
    "\n",
    "plt.figure()\n",
    "plt.plot(all_losses, color='b')\n",
    "plt.plot(all_test_losses, color='r')"
   ]
  },
  {
   "cell_type": "markdown",
   "metadata": {},
   "source": [
    "Evaluate results\n",
    "-------------------\n",
    "\n",
    "We now vizualize the performance of our model by creating a confusion matrix. The ground truth languages of samples are represented by rows in the matrix while the predicted languages are represented by columns.\n",
    "\n",
    "In this evaluation we consider sequences of variable sizes rather than the fixed length sequences we used for training."
   ]
  },
  {
   "cell_type": "code",
   "execution_count": 103,
   "metadata": {},
   "outputs": [
    {
     "name": "stdout",
     "output_type": "stream",
     "text": [
      "Test accuracy:  0.808\n"
     ]
    },
    {
     "data": {
      "image/png": "[encoded data removed]",
      "text/plain": [
       "<Figure size 432x288 with 2 Axes>"
      ]
     },
     "metadata": {},
     "output_type": "display_data"
    }
   ],
   "source": [
    "eval_batch_size = 1  # needs to be set to 1 for evaluating different sequence lengths\n",
    "\n",
    "# Keep track of correct guesses in a confusion matrix\n",
    "confusion = torch.zeros(n_languages, n_languages)\n",
    "n_confusion = 1000\n",
    "num_correct = 0\n",
    "total = 0\n",
    "\n",
    "for i in range(n_confusion):\n",
    "    eval_chunk_len = random.randint(10, 50) # in evaluation we will look at sequences of variable sizes\n",
    "    input_data, target_category, text_data = load_random_batch(test_category_data, chunk_len=eval_chunk_len, batch_size=eval_batch_size)\n",
    "    output = evaluate(rnn, input_data, seq_len=eval_chunk_len, batch_size=eval_batch_size)\n",
    "    \n",
    "    guess_i = categoryFromOutput(output)\n",
    "    category_i = [int(target_category[idx]) for idx in range(len(target_category))]\n",
    "    for j in range(eval_batch_size):\n",
    "        category = all_categories[category_i[j]] \n",
    "        confusion[category_i[j]][guess_i[j]] += 1\n",
    "        num_correct += int(guess_i[j]==category_i[j])\n",
    "        total += 1\n",
    "\n",
    "print('Test accuracy: ', float(num_correct)/float(n_confusion*eval_batch_size))\n",
    "\n",
    "# Normalize by dividing every row by its sum\n",
    "for i in range(n_languages):\n",
    "    confusion[i] = confusion[i] / confusion[i].sum()\n",
    "\n",
    "# Set up plot\n",
    "fig = plt.figure()\n",
    "ax = fig.add_subplot(111)\n",
    "cax = ax.matshow(confusion.numpy())\n",
    "fig.colorbar(cax)\n",
    "\n",
    "# Set up axes\n",
    "ax.set_xticklabels([''] + all_categories, rotation=90)\n",
    "ax.set_yticklabels([''] + all_categories)\n",
    "\n",
    "# Force label at every tick\n",
    "ax.xaxis.set_major_locator(ticker.MultipleLocator(1))\n",
    "ax.yaxis.set_major_locator(ticker.MultipleLocator(1))\n",
    "\n",
    "plt.show()"
   ]
  },
  {
   "cell_type": "markdown",
   "metadata": {},
   "source": [
    "You can pick out bright spots off the main axis that show which\n",
    "languages it guesses incorrectly.\n",
    "\n",
    "\n"
   ]
  },
  {
   "cell_type": "markdown",
   "metadata": {},
   "source": [
    "Run on User Input\n",
    "---------------------\n",
    "\n",
    "Now you can test your model on your own input. \n"
   ]
  },
  {
   "cell_type": "code",
   "execution_count": 104,
   "metadata": {},
   "outputs": [
    {
     "name": "stdout",
     "output_type": "stream",
     "text": [
      "\n",
      "> This is a phrase to test the model on user input\n",
      "(9.86) english\n",
      "(6.30) albanian\n",
      "(2.87) spanish\n",
      "(2.85) norwegian\n",
      "(1.95) danish\n"
     ]
    }
   ],
   "source": [
    "def predict(input_line, n_predictions=5):\n",
    "    print('\\n> %s' % input_line)\n",
    "    with torch.no_grad():\n",
    "        input_data = stringToTensor(input_line).long().unsqueeze(0).to(device)\n",
    "        output = evaluate(rnn, input_data, seq_len=len(input_line), batch_size=1)\n",
    "\n",
    "    # Get top N categories\n",
    "    topv, topi = output.topk(n_predictions, dim=1)\n",
    "    predictions = []\n",
    "\n",
    "    for i in range(n_predictions):\n",
    "        topv.shape\n",
    "        topi.shape\n",
    "        value = topv[0][i].item()\n",
    "        category_index = topi[0][i].item()\n",
    "        print('(%.2f) %s' % (value, all_categories[category_index]))\n",
    "        predictions.append([value, all_categories[category_index]])\n",
    "\n",
    "predict('This is a phrase to test the model on user input')\n"
   ]
  },
  {
   "cell_type": "markdown",
   "metadata": {},
   "source": [
    "# Output Kaggle submission file\n",
    "\n",
    "Once you have found a good set of hyperparameters submit the output of your model on the Kaggle test file."
   ]
  },
  {
   "cell_type": "code",
   "execution_count": 105,
   "metadata": {},
   "outputs": [],
   "source": [
    "### DO NOT CHANGE KAGGLE SUBMISSION CODE ####\n",
    "import csv\n",
    "\n",
    "kaggle_test_file_path = 'language_data/kaggle_rnn_language_classification_test.txt'\n",
    "with open(kaggle_test_file_path, 'r') as f:\n",
    "    lines = f.readlines()\n",
    "\n",
    "output_rows = []\n",
    "for i, line in enumerate(lines):\n",
    "    sample = line.rstrip()\n",
    "    sample_chunk_len = len(sample)\n",
    "    input_data = stringToTensor(sample).unsqueeze(0)\n",
    "    output = evaluate(rnn, input_data, seq_len=sample_chunk_len, batch_size=1)\n",
    "    guess_i = categoryFromOutput(output)\n",
    "    output_rows.append((str(i+1), all_categories[guess_i]))\n",
    "\n",
    "submission_file_path = 'kaggle_rnn_submission.txt'\n",
    "with open(submission_file_path, 'w') as f:\n",
    "    output_rows = [('id', 'category')] + output_rows\n",
    "    writer = csv.writer(f)\n",
    "    writer.writerows(output_rows)\n"
   ]
  }
 ],
 "metadata": {
  "kernelspec": {
   "display_name": "Python 3",
   "language": "python",
   "name": "python3"
  },
  "language_info": {
   "codemirror_mode": {
    "name": "ipython",
    "version": 3
   },
   "file_extension": ".py",
   "mimetype": "text/x-python",
   "name": "python",
   "nbconvert_exporter": "python",
   "pygments_lexer": "ipython3",
   "version": "3.5.3"
  }
 },
 "nbformat": 4,
 "nbformat_minor": 2
}
